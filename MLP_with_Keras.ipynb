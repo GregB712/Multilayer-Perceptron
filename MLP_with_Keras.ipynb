{
  "nbformat": 4,
  "nbformat_minor": 0,
  "metadata": {
    "colab": {
      "name": "MLP with Keras.ipynb",
      "provenance": [],
      "toc_visible": true
    },
    "kernelspec": {
      "name": "python3",
      "display_name": "Python 3"
    }
  },
  "cells": [
    {
      "cell_type": "markdown",
      "metadata": {
        "id": "nrEMRy_g2jI-"
      },
      "source": [
        "# **Simple Multi Layer Perceptron with keras**\n",
        "What it does?\n",
        "\n",
        "*   Creating a MLP using a sequential model with dense layers.\n",
        "*   Comparing many models with different activation functions, optimizers, loss funcstions etc.\n",
        "*   Presenting some evaluation scores in the chosen model.\n",
        "*   Analyzing some terms (Theoretical background).\n"
      ]
    },
    {
      "cell_type": "code",
      "metadata": {
        "id": "KKro7ZUX2Vym"
      },
      "source": [
        "# Importing needed libraries\n",
        "from keras.utils import np_utils\n",
        "from keras.datasets import mnist\n",
        "\n",
        "from keras.models import Sequential\n",
        "from keras.layers import Dense\n",
        "\n",
        "import numpy as np\n",
        "import matplotlib.pyplot as plt\n",
        "\n",
        "import seaborn as sns\n",
        "\n",
        "import pandas as pd\n",
        "\n",
        "from sklearn.metrics import confusion_matrix"
      ],
      "execution_count": 1,
      "outputs": []
    },
    {
      "cell_type": "markdown",
      "metadata": {
        "id": "jKjQB2TP3Kkf"
      },
      "source": [
        "### Data Preprocessing Level"
      ]
    },
    {
      "cell_type": "markdown",
      "metadata": {
        "id": "dftk59FNzxXJ"
      },
      "source": [
        "[The mnist dataset](https://storage.googleapis.com/tensorflow/tf-keras-datasets/mnist.npz) by google api."
      ]
    },
    {
      "cell_type": "code",
      "metadata": {
        "id": "EAty7tDb3E2_"
      },
      "source": [
        "# Load MNIST digit dataset\n",
        "(x_train, y_train), (x_test, y_test) = mnist.load_data()"
      ],
      "execution_count": 2,
      "outputs": []
    },
    {
      "cell_type": "code",
      "metadata": {
        "id": "LgtsM3LR3bte",
        "colab": {
          "base_uri": "https://localhost:8080/",
          "height": 967
        },
        "outputId": "e494f567-53d2-4411-f15a-2352a8282578"
      },
      "source": [
        "# Plot a sample of the training data\n",
        "\n",
        "# Dimensions of data\n",
        "print('X_train: ' + str(x_train.shape))\n",
        "print('Y_train: ' + str(y_train.shape))\n",
        "print('X_test:  '  + str(x_test.shape))\n",
        "print('Y_test:  '  + str(y_test.shape))\n",
        "\n",
        "for i in range(9):  \n",
        "  plt.subplot(330 + 1 + i)\n",
        "  plt.imshow(x_train[i], cmap=plt.get_cmap('gray'))\n",
        "  plt.show()"
      ],
      "execution_count": 3,
      "outputs": [
        {
          "output_type": "stream",
          "text": [
            "X_train: (60000, 28, 28)\n",
            "Y_train: (60000,)\n",
            "X_test:  (10000, 28, 28)\n",
            "Y_test:  (10000,)\n"
          ],
          "name": "stdout"
        },
        {
          "output_type": "display_data",
          "data": {
            "image/png": "[encoded data removed]",
            "text/plain": [
              "<Figure size 432x288 with 1 Axes>"
            ]
          },
          "metadata": {
            "tags": [],
            "needs_background": "light"
          }
        },
        {
          "output_type": "display_data",
          "data": {
            "image/png": "[encoded data removed]",
            "text/plain": [
              "<Figure size 432x288 with 1 Axes>"
            ]
          },
          "metadata": {
            "tags": [],
            "needs_background": "light"
          }
        },
        {
          "output_type": "display_data",
          "data": {
            "image/png": "[encoded data removed]",
            "text/plain": [
              "<Figure size 432x288 with 1 Axes>"
            ]
          },
          "metadata": {
            "tags": [],
            "needs_background": "light"
          }
        },
        {
          "output_type": "display_data",
          "data": {
            "image/png": "[encoded data removed]",
            "text/plain": [
              "<Figure size 432x288 with 1 Axes>"
            ]
          },
          "metadata": {
            "tags": [],
            "needs_background": "light"
          }
        },
        {
          "output_type": "display_data",
          "data": {
            "image/png": "[encoded data removed]",
            "text/plain": [
              "<Figure size 432x288 with 1 Axes>"
            ]
          },
          "metadata": {
            "tags": [],
            "needs_background": "light"
          }
        },
        {
          "output_type": "display_data",
          "data": {
            "image/png": "[encoded data removed]",
            "text/plain": [
              "<Figure size 432x288 with 1 Axes>"
            ]
          },
          "metadata": {
            "tags": [],
            "needs_background": "light"
          }
        },
        {
          "output_type": "display_data",
          "data": {
            "image/png": "[encoded data removed]",
            "text/plain": [
              "<Figure size 432x288 with 1 Axes>"
            ]
          },
          "metadata": {
            "tags": [],
            "needs_background": "light"
          }
        },
        {
          "output_type": "display_data",
          "data": {
            "image/png": "[encoded data removed]",
            "text/plain": [
              "<Figure size 432x288 with 1 Axes>"
            ]
          },
          "metadata": {
            "tags": [],
            "needs_background": "light"
          }
        },
        {
          "output_type": "display_data",
          "data": {
            "image/png": "[encoded data removed]",
            "text/plain": [
              "<Figure size 432x288 with 1 Axes>"
            ]
          },
          "metadata": {
            "tags": [],
            "needs_background": "light"
          }
        }
      ]
    },
    {
      "cell_type": "markdown",
      "metadata": {
        "id": "9nCbGbik30Kq"
      },
      "source": [
        "#### Handling the data to fit the model"
      ]
    },
    {
      "cell_type": "markdown",
      "metadata": {
        "id": "y3hl9vGSxWYx"
      },
      "source": [
        "**“Normalizing”** a vector most often means dividing by a norm of the vector. It also often refers to rescaling by the minimum and range of the vector, to make all the elements lie between 0 and 1 thus bringing all the values of numeric columns in the dataset to a common scale.\n",
        "\n",
        "The goal of **normalization** is to change the values of numeric columns in the dataset to a common scale, without distorting differences in the ranges of values."
      ]
    },
    {
      "cell_type": "markdown",
      "metadata": {
        "id": "8WF-qy_tx1gg"
      },
      "source": [
        "**One hot encoding** is a process by which categorical variables are converted into a form that could be provided to ML algorithms to do a better job in prediction."
      ]
    },
    {
      "cell_type": "code",
      "metadata": {
        "id": "9SOslBS_3t-E"
      },
      "source": [
        "# Reshaping input size\n",
        "x_train = x_train.reshape(x_train.shape[0], x_train.shape[1]*x_train.shape[2])\n",
        "x_test = x_test.reshape(x_test.shape[0], x_test.shape[1]*x_test.shape[2])\n",
        "\n",
        "# Normalization\n",
        "x_train = x_train / 255.0\n",
        "x_test = x_test / 255.0\n",
        "\n",
        "# Labeling (one hot encoding)\n",
        "y_train = np_utils.to_categorical(y_train, 10)\n",
        "y_test = np_utils.to_categorical(y_test, 10)"
      ],
      "execution_count": 4,
      "outputs": []
    },
    {
      "cell_type": "markdown",
      "metadata": {
        "id": "qAu3F_up4RGa"
      },
      "source": [
        "## Creating the model"
      ]
    },
    {
      "cell_type": "code",
      "metadata": {
        "id": "mb0C124km7Lx"
      },
      "source": [
        "import keras\n",
        "import time\n",
        "\n",
        "# Class to help us retrieve the training times of the models\n",
        "class TimeHistory(keras.callbacks.Callback):\n",
        "  def on_train_begin(self, logs={}):\n",
        "    self.times = []\n",
        "\n",
        "  def on_epoch_begin(self, batch, logs={}):\n",
        "    self.epoch_time_start = time.time()\n",
        "\n",
        "  def on_epoch_end(self, batch, logs={}):\n",
        "    self.times.append(time.time() - self.epoch_time_start)"
      ],
      "execution_count": 5,
      "outputs": []
    },
    {
      "cell_type": "markdown",
      "metadata": {
        "id": "PfTdqCQnJV2c"
      },
      "source": [
        "#### Number of Layers Comparison"
      ]
    },
    {
      "cell_type": "markdown",
      "metadata": {
        "id": "6TwpjBVpzOKd"
      },
      "source": [
        "**[Sequential](https://keras.io/guides/sequential_model/)** model is a linear stack of layers.You can create a **Sequential** model by passing a list of layer instances to the constructor."
      ]
    },
    {
      "cell_type": "markdown",
      "metadata": {
        "id": "a-qb8l5nyypV"
      },
      "source": [
        "**[Dense layer](https://keras.io/api/layers/core_layers/dense/)**\n",
        "\n",
        "Just your regular densely-connected NN layer.\n",
        "\n",
        "**Dense** implements the operation: output = activation(dot(input, kernel) + bias) where activation is the element-wise activation function passed as the activation argument, kernel is a weights matrix created by the layer, and bias is a bias vector created by the layer (only applicable if use_bias is True)."
      ]
    },
    {
      "cell_type": "markdown",
      "metadata": {
        "id": "febeZ7P90NAm"
      },
      "source": [
        "[**Model training APIs**](https://keras.io/api/models/model_training_apis/)\n",
        "\n",
        "**compile method**: Configures the model for training.\n",
        "\n",
        "**fit method**: Trains the model for a fixed number of epochs (iterations on a dataset).\n",
        "\n",
        "**evaluate method**: Returns the loss value & metrics values for the model in test mode."
      ]
    },
    {
      "cell_type": "code",
      "metadata": {
        "colab": {
          "base_uri": "https://localhost:8080/"
        },
        "id": "Th_eY554PCrY",
        "outputId": "6fb66cc2-e1b6-4d1d-baa6-ded2213c0e04"
      },
      "source": [
        "# Adding Layers\n",
        "model = Sequential()\n",
        "model.add(Dense(64, input_dim=(784), activation='sigmoid'))\n",
        "model.add(Dense(10, activation='sigmoid')) #output the probability\n",
        "\n",
        "model.compile(optimizer='sgd', loss='mean_squared_error', metrics=['accuracy'])\n",
        "\n",
        "time_callback = TimeHistory()\n",
        "my_callbacks = [\n",
        "    keras.callbacks.EarlyStopping(patience=3),\n",
        "    time_callback \n",
        "    ]\n",
        "\n",
        "model.fit(x_train, y_train, epochs=50, batch_size=128 ,validation_data=(x_test,y_test), shuffle=True, verbose=0, callbacks=my_callbacks)\n",
        "times = time_callback.times\n",
        "\n",
        "score = model.evaluate(x_test, y_test, verbose=0)\n",
        "\n",
        "print('Test loss: ', score[0])\n",
        "print('Test accuracy: ', score[1])\n",
        "print('Training time (seconds): ', sum(times))"
      ],
      "execution_count": 6,
      "outputs": [
        {
          "output_type": "stream",
          "text": [
            "Test loss:  0.07211215049028397\n",
            "Test accuracy:  0.6043999791145325\n",
            "Training time (seconds):  45.60478210449219\n"
          ],
          "name": "stdout"
        }
      ]
    },
    {
      "cell_type": "code",
      "metadata": {
        "colab": {
          "base_uri": "https://localhost:8080/"
        },
        "id": "XPuBjF2aQJOb",
        "outputId": "bb829217-810c-410a-9ab4-d8b4443570e2"
      },
      "source": [
        "# Adding Layers\n",
        "model = Sequential()\n",
        "model.add(Dense(128, input_dim=(784), activation='sigmoid'))\n",
        "model.add(Dense(10, activation='sigmoid')) #output the probability\n",
        "\n",
        "model.compile(optimizer='sgd', loss='mean_squared_error', metrics=['accuracy'])\n",
        "\n",
        "time_callback = TimeHistory()\n",
        "my_callbacks = [\n",
        "    keras.callbacks.EarlyStopping(patience=3),\n",
        "    time_callback \n",
        "    ]\n",
        "\n",
        "model.fit(x_train, y_train, epochs=50, batch_size=128 ,validation_data=(x_test,y_test), shuffle=True, verbose=0, callbacks=my_callbacks)\n",
        "times = time_callback.times\n",
        "\n",
        "score = model.evaluate(x_test, y_test, verbose=0)\n",
        "\n",
        "print('Test loss: ', score[0])\n",
        "print('Test accuracy: ', score[1])\n",
        "print('Training time (seconds): ', sum(times))"
      ],
      "execution_count": 7,
      "outputs": [
        {
          "output_type": "stream",
          "text": [
            "Test loss:  0.0688987523317337\n",
            "Test accuracy:  0.6389999985694885\n",
            "Training time (seconds):  58.24821591377258\n"
          ],
          "name": "stdout"
        }
      ]
    },
    {
      "cell_type": "code",
      "metadata": {
        "colab": {
          "base_uri": "https://localhost:8080/"
        },
        "id": "ridqknZMQNK9",
        "outputId": "01c9b494-8cf1-43e4-8e52-a775803a9fae"
      },
      "source": [
        "# Adding Layers\n",
        "model = Sequential()\n",
        "model.add(Dense(128, input_dim=(784), activation='sigmoid'))\n",
        "model.add(Dense(64, activation='sigmoid'))\n",
        "model.add(Dense(10, activation='sigmoid')) #output the probability\n",
        "\n",
        "model.compile(optimizer='sgd', loss='mean_squared_error', metrics=['accuracy'])\n",
        "\n",
        "time_callback = TimeHistory()\n",
        "my_callbacks = [\n",
        "    keras.callbacks.EarlyStopping(patience=3),\n",
        "    time_callback \n",
        "    ]\n",
        "\n",
        "model.fit(x_train, y_train, epochs=50, batch_size=128 ,validation_data=(x_test,y_test), shuffle=True, verbose=0, callbacks=my_callbacks)\n",
        "times = time_callback.times\n",
        "\n",
        "score = model.evaluate(x_test, y_test, verbose=0)\n",
        "\n",
        "print('Test loss: ', score[0])\n",
        "print('Test accuracy: ', score[1])\n",
        "print('Training time (seconds): ', sum(times))"
      ],
      "execution_count": 8,
      "outputs": [
        {
          "output_type": "stream",
          "text": [
            "Test loss:  0.0890921875834465\n",
            "Test accuracy:  0.19939999282360077\n",
            "Training time (seconds):  62.73317885398865\n"
          ],
          "name": "stdout"
        }
      ]
    },
    {
      "cell_type": "code",
      "metadata": {
        "colab": {
          "base_uri": "https://localhost:8080/"
        },
        "id": "pAd__vATQT21",
        "outputId": "0dfd7fda-5664-4760-b043-b46c4a44095e"
      },
      "source": [
        "# Adding Layers\n",
        "model = Sequential()\n",
        "model.add(Dense(128, input_dim=(784), activation='sigmoid'))\n",
        "model.add(Dense(128, activation='sigmoid'))\n",
        "model.add(Dense(10, activation='sigmoid')) #output the probability\n",
        "\n",
        "model.compile(optimizer='sgd', loss='mean_squared_error', metrics=['accuracy'])\n",
        "\n",
        "time_callback = TimeHistory()\n",
        "my_callbacks = [\n",
        "    keras.callbacks.EarlyStopping(patience=3),\n",
        "    time_callback \n",
        "    ]\n",
        "\n",
        "model.fit(x_train, y_train, epochs=50, batch_size=128 ,validation_data=(x_test,y_test), shuffle=True, verbose=0, callbacks=my_callbacks)\n",
        "times = time_callback.times\n",
        "\n",
        "score = model.evaluate(x_test, y_test, verbose=0)\n",
        "\n",
        "print('Test loss: ', score[0])\n",
        "print('Test accuracy: ', score[1])\n",
        "print('Training time (seconds): ', sum(times))"
      ],
      "execution_count": 9,
      "outputs": [
        {
          "output_type": "stream",
          "text": [
            "Test loss:  0.08913359045982361\n",
            "Test accuracy:  0.17149999737739563\n",
            "Training time (seconds):  66.0434627532959\n"
          ],
          "name": "stdout"
        }
      ]
    },
    {
      "cell_type": "code",
      "metadata": {
        "colab": {
          "base_uri": "https://localhost:8080/"
        },
        "id": "piEZq0nVQhQ7",
        "outputId": "d5fadcdb-9704-4f37-9575-57bebb7bb12f"
      },
      "source": [
        "# Adding Layers\n",
        "model = Sequential()\n",
        "model.add(Dense(64, input_dim=(784), activation='sigmoid'))\n",
        "model.add(Dense(64, activation='sigmoid'))\n",
        "model.add(Dense(64, activation='sigmoid'))\n",
        "model.add(Dense(10, activation='sigmoid')) #output the probability\n",
        "\n",
        "model.compile(optimizer='sgd', loss='mean_squared_error', metrics=['accuracy'])\n",
        "\n",
        "time_callback = TimeHistory()\n",
        "my_callbacks = [\n",
        "    keras.callbacks.EarlyStopping(patience=3),\n",
        "    time_callback \n",
        "    ]\n",
        "\n",
        "model.fit(x_train, y_train, epochs=50, batch_size=128 ,validation_data=(x_test,y_test), shuffle=True, verbose=0, callbacks=my_callbacks)\n",
        "times = time_callback.times\n",
        "\n",
        "score = model.evaluate(x_test, y_test, verbose=0)\n",
        "\n",
        "print('Test loss: ', score[0])\n",
        "print('Test accuracy: ', score[1])\n",
        "print('Training time (seconds): ', sum(times))"
      ],
      "execution_count": 10,
      "outputs": [
        {
          "output_type": "stream",
          "text": [
            "Test loss:  0.08991013467311859\n",
            "Test accuracy:  0.11349999904632568\n",
            "Training time (seconds):  48.45081186294556\n"
          ],
          "name": "stdout"
        }
      ]
    },
    {
      "cell_type": "markdown",
      "metadata": {
        "id": "SzsmRTirTmIu"
      },
      "source": [
        "##### Note\n",
        "We noticed that creating a more complex network doesn't give us better results. So let's try changing the activation functions."
      ]
    },
    {
      "cell_type": "markdown",
      "metadata": {
        "id": "BkdyhVTIO86p"
      },
      "source": [
        "#### Activation Functions Comparison"
      ]
    },
    {
      "cell_type": "markdown",
      "metadata": {
        "id": "heyK38YjZaUG"
      },
      "source": [
        "##### Plotting [Sigmoid](https://keras.io/api/layers/activations/#sigmoid-function), [ReLU](https://keras.io/api/layers/activations/#relu-function), [Sotfmax](https://keras.io/api/layers/activations/#softmax-function)"
      ]
    },
    {
      "cell_type": "code",
      "metadata": {
        "id": "aFcv6ImOZWLR"
      },
      "source": [
        "x = np.arange(-5, 5, 0.01)\n",
        "\n",
        "# Function to plot the activation functions\n",
        "def plot(func, yaxis=(-1.4, 1.4)):\n",
        "    plt.ylim(yaxis)\n",
        "    plt.locator_params(nbins=5)\n",
        "    plt.xticks(fontsize = 14)\n",
        "    plt.yticks(fontsize = 14)\n",
        "    plt.axhline(lw=1, c='black')\n",
        "    plt.axvline(lw=1, c='black')\n",
        "    plt.grid(alpha=0.4, ls='-.')\n",
        "    plt.box(on=None)\n",
        "    plt.plot(x, func(x), c='r', lw=3)"
      ],
      "execution_count": 11,
      "outputs": []
    },
    {
      "cell_type": "markdown",
      "metadata": {
        "id": "uDQllKJ617y9"
      },
      "source": [
        "Sigmoid activation function, sigmoid(x) = 1 / (1 + exp(-x)).\n",
        "\n",
        "Applies the sigmoid activation function. For small values (<-5), sigmoid returns a value close to zero, and for large values (>5) the result of the function gets close to 1."
      ]
    },
    {
      "cell_type": "code",
      "metadata": {
        "colab": {
          "base_uri": "https://localhost:8080/",
          "height": 269
        },
        "id": "ZiztUkQEV4Ho",
        "outputId": "52d74baf-593f-4bdc-8a2a-90772ee08728"
      },
      "source": [
        "def sigmoid(x):\n",
        "    return 1 / (1 + np.exp(-x))\n",
        "\n",
        "plot(sigmoid, yaxis=(-0.4, 1.4))"
      ],
      "execution_count": 12,
      "outputs": [
        {
          "output_type": "display_data",
          "data": {
            "image/png": "[encoded data removed]",
            "text/plain": [
              "<Figure size 432x288 with 1 Axes>"
            ]
          },
          "metadata": {
            "tags": [],
            "needs_background": "light"
          }
        }
      ]
    },
    {
      "cell_type": "markdown",
      "metadata": {
        "id": "YHwVlWQy2BH4"
      },
      "source": [
        "Applies the rectified linear unit activation function.\n",
        "\n",
        "With default values, this returns the standard ReLU activation: max(x, 0), the element-wise maximum of 0 and the input tensor."
      ]
    },
    {
      "cell_type": "code",
      "metadata": {
        "colab": {
          "base_uri": "https://localhost:8080/",
          "height": 269
        },
        "id": "hyCx4wyPZNXd",
        "outputId": "c49fc50e-d354-4193-aebb-e3c85214fa95"
      },
      "source": [
        "relu = np.vectorize(lambda x: x if x > 0 else 0, otypes=[np.float])\n",
        "\n",
        "plot(relu, yaxis=(-0.4, 1.4))"
      ],
      "execution_count": 13,
      "outputs": [
        {
          "output_type": "display_data",
          "data": {
            "image/png": "[encoded data removed]",
            "text/plain": [
              "<Figure size 432x288 with 1 Axes>"
            ]
          },
          "metadata": {
            "tags": [],
            "needs_background": "light"
          }
        }
      ]
    },
    {
      "cell_type": "markdown",
      "metadata": {
        "id": "MJUPqQCF2Ft6"
      },
      "source": [
        "Softmax converts a real vector to a vector of categorical probabilities.\n",
        "\n",
        "The elements of the output vector are in range (0, 1) and sum to 1.\n",
        "\n",
        "Each vector is handled independently."
      ]
    },
    {
      "cell_type": "code",
      "metadata": {
        "id": "3VAvGCdqa61z",
        "colab": {
          "base_uri": "https://localhost:8080/",
          "height": 269
        },
        "outputId": "c5ad5803-0ac3-4bc1-bf8d-863ebd3fb8be"
      },
      "source": [
        "def softmax(x):\n",
        "    e_x = np.exp(x - np.max(x))\n",
        "    return e_x / e_x.sum(axis=0)\n",
        "\n",
        "plot(softmax, yaxis=(-0.4, 1.4))"
      ],
      "execution_count": 14,
      "outputs": [
        {
          "output_type": "display_data",
          "data": {
            "image/png": "[encoded data removed]",
            "text/plain": [
              "<Figure size 432x288 with 1 Axes>"
            ]
          },
          "metadata": {
            "tags": [],
            "needs_background": "light"
          }
        }
      ]
    },
    {
      "cell_type": "markdown",
      "metadata": {
        "id": "72mt5MKwiVTJ"
      },
      "source": [
        "##### Activation Functions"
      ]
    },
    {
      "cell_type": "code",
      "metadata": {
        "colab": {
          "base_uri": "https://localhost:8080/"
        },
        "id": "qCjQ8fABRU8D",
        "outputId": "63e12883-6ce5-4f47-a4b9-0df570b8146a"
      },
      "source": [
        "# Adding Layers\n",
        "model = Sequential()\n",
        "model.add(Dense(64, input_dim=(784), activation='sigmoid'))\n",
        "model.add(Dense(64, activation='sigmoid'))\n",
        "model.add(Dense(10, activation='softmax')) #output the probability\n",
        "\n",
        "model.compile(optimizer='sgd', loss='mean_squared_error', metrics=['accuracy'])\n",
        "\n",
        "time_callback = TimeHistory()\n",
        "my_callbacks = [\n",
        "    #keras.callbacks.EarlyStopping(patience=3),\n",
        "    time_callback \n",
        "    ]\n",
        "\n",
        "model.fit(x_train, y_train, epochs=50, batch_size=128 ,validation_data=(x_test,y_test), shuffle=True, verbose=0, callbacks=my_callbacks)\n",
        "times = time_callback.times\n",
        "\n",
        "score = model.evaluate(x_test, y_test, verbose=0)\n",
        "\n",
        "print('Test loss: ', score[0])\n",
        "print('Test accuracy: ', score[1])\n",
        "print('Training time (seconds): ', sum(times))"
      ],
      "execution_count": 15,
      "outputs": [
        {
          "output_type": "stream",
          "text": [
            "Test loss:  0.08930366486310959\n",
            "Test accuracy:  0.14000000059604645\n",
            "Training time (seconds):  46.548964738845825\n"
          ],
          "name": "stdout"
        }
      ]
    },
    {
      "cell_type": "code",
      "metadata": {
        "colab": {
          "base_uri": "https://localhost:8080/"
        },
        "id": "m38EgtQaMx2Q",
        "outputId": "467223fb-f77c-43ba-df31-990dc4fbfa10"
      },
      "source": [
        "# Adding Layers\n",
        "model = Sequential()\n",
        "model.add(Dense(64, input_dim=(784), activation='relu'))\n",
        "model.add(Dense(64, activation='relu'))\n",
        "model.add(Dense(10, activation='softmax')) #output the probability\n",
        "\n",
        "model.compile(optimizer='sgd', loss='mean_squared_error', metrics=['accuracy'])\n",
        "\n",
        "time_callback = TimeHistory()\n",
        "my_callbacks = [\n",
        "    keras.callbacks.EarlyStopping(patience=3),\n",
        "    time_callback \n",
        "    ]\n",
        "\n",
        "model.fit(x_train, y_train, epochs=50, batch_size=128 ,validation_data=(x_test,y_test), shuffle=True, verbose=0, callbacks=my_callbacks)\n",
        "times = time_callback.times\n",
        "\n",
        "score = model.evaluate(x_test, y_test, verbose=0)\n",
        "\n",
        "print('Test loss: ', score[0])\n",
        "print('Test accuracy: ', score[1])\n",
        "print('Training time (seconds): ', sum(times))"
      ],
      "execution_count": 16,
      "outputs": [
        {
          "output_type": "stream",
          "text": [
            "Test loss:  0.018642408773303032\n",
            "Test accuracy:  0.8851000070571899\n",
            "Training time (seconds):  46.72444128990173\n"
          ],
          "name": "stdout"
        }
      ]
    },
    {
      "cell_type": "markdown",
      "metadata": {
        "id": "45m3tlCATf8J"
      },
      "source": [
        "###### Note\n",
        "We notice that the network using the ReLU activation function has better results."
      ]
    },
    {
      "cell_type": "markdown",
      "metadata": {
        "id": "cqZcNUgHJfFb"
      },
      "source": [
        "#### [Kernel Initializer Comparison](https://keras.io/api/layers/initializers/)\n",
        "kernel_initializer: Initializer for the kernel weights matrix.\n",
        "\n",
        "Normal vs Uniform Distributions:\n",
        "Normal Distribution is a probability distribution where probability of x is highest at centre and lowest in the ends whereas in Uniform Distribution probability of x is constant."
      ]
    },
    {
      "cell_type": "code",
      "metadata": {
        "colab": {
          "base_uri": "https://localhost:8080/"
        },
        "id": "7Y9gR0EIeio-",
        "outputId": "df10713a-def3-4423-f56c-229e963982a1"
      },
      "source": [
        "# Adding Layers\n",
        "from keras.initializers import RandomNormal\n",
        "\n",
        "initializer = RandomNormal(mean=0.0, stddev=0.05, seed=None)\n",
        "\n",
        "model = Sequential()\n",
        "model.add(Dense(64, input_shape=(784,), activation='relu', kernel_initializer=initializer))\n",
        "model.add(Dense(64, activation='relu', kernel_initializer=initializer))\n",
        "model.add(Dense(10, activation='softmax', kernel_initializer=initializer)) #output the probability\n",
        "\n",
        "model.compile(optimizer='sgd', loss='mean_squared_error', metrics=['accuracy'])\n",
        "\n",
        "time_callback = TimeHistory()\n",
        "my_callbacks = [\n",
        "    keras.callbacks.EarlyStopping(patience=3),\n",
        "    time_callback \n",
        "    ]\n",
        "\n",
        "model.fit(x_train, y_train, epochs=50, batch_size=128 ,validation_data=(x_test,y_test), shuffle=True, verbose=0, callbacks=my_callbacks)\n",
        "times = time_callback.times\n",
        "\n",
        "score = model.evaluate(x_test, y_test, verbose=0)\n",
        "\n",
        "print('Test loss: ', score[0])\n",
        "print('Test accuracy: ', score[1])\n",
        "print('Training time (seconds): ', sum(times))"
      ],
      "execution_count": 17,
      "outputs": [
        {
          "output_type": "stream",
          "text": [
            "Test loss:  0.08661755174398422\n",
            "Test accuracy:  0.35519999265670776\n",
            "Training time (seconds):  47.05502676963806\n"
          ],
          "name": "stdout"
        }
      ]
    },
    {
      "cell_type": "code",
      "metadata": {
        "colab": {
          "base_uri": "https://localhost:8080/"
        },
        "id": "N8JAXbkReq7s",
        "outputId": "63509ad4-1861-497e-e1dd-179dc6fb2301"
      },
      "source": [
        "# Adding Layers\n",
        "from keras.initializers import GlorotNormal\n",
        "\n",
        "initializer = GlorotNormal(seed=None)\n",
        "\n",
        "model = Sequential()\n",
        "model.add(Dense(64, input_shape=(784,), activation='relu', kernel_initializer=initializer))\n",
        "model.add(Dense(64, activation='relu', kernel_initializer=initializer))\n",
        "model.add(Dense(10, activation='softmax', kernel_initializer=initializer)) #output the probability\n",
        "\n",
        "model.compile(optimizer='sgd', loss='mean_squared_error', metrics=['accuracy'])\n",
        "\n",
        "time_callback = TimeHistory()\n",
        "my_callbacks = [\n",
        "    keras.callbacks.EarlyStopping(patience=3),\n",
        "    time_callback \n",
        "    ]\n",
        "\n",
        "model.fit(x_train, y_train, epochs=50, batch_size=128 ,validation_data=(x_test,y_test), shuffle=True, verbose=0, callbacks=my_callbacks)\n",
        "times = time_callback.times\n",
        "\n",
        "score = model.evaluate(x_test, y_test, verbose=0)\n",
        "\n",
        "print('Test loss: ', score[0])\n",
        "print('Test accuracy: ', score[1])\n",
        "print('Training time (seconds): ', sum(times))"
      ],
      "execution_count": 18,
      "outputs": [
        {
          "output_type": "stream",
          "text": [
            "Test loss:  0.019999008625745773\n",
            "Test accuracy:  0.8813999891281128\n",
            "Training time (seconds):  48.35572338104248\n"
          ],
          "name": "stdout"
        }
      ]
    },
    {
      "cell_type": "code",
      "metadata": {
        "colab": {
          "base_uri": "https://localhost:8080/"
        },
        "id": "qLrQFEzvgxdw",
        "outputId": "c17c543c-75fd-4706-c113-a325e4ff8d18"
      },
      "source": [
        "# Adding Layers\n",
        "\n",
        "# Glorot Uniform distribution is the default value\n",
        "model = Sequential()\n",
        "model.add(Dense(64, input_dim=(784), activation='relu', kernel_initializer=\"glorot_uniform\"))\n",
        "model.add(Dense(64, activation='relu', kernel_initializer=\"glorot_uniform\"))\n",
        "model.add(Dense(10, activation='softmax', kernel_initializer=\"glorot_uniform\")) #output the probability\n",
        "\n",
        "model.compile(optimizer='sgd', loss='mean_squared_error', metrics=['accuracy'])\n",
        "\n",
        "time_callback = TimeHistory()\n",
        "my_callbacks = [\n",
        "    keras.callbacks.EarlyStopping(patience=3),\n",
        "    time_callback \n",
        "    ]\n",
        "\n",
        "model.fit(x_train, y_train, epochs=50, batch_size=128 ,validation_data=(x_test,y_test), shuffle=True, verbose=0, callbacks=my_callbacks)\n",
        "times = time_callback.times\n",
        "\n",
        "score = model.evaluate(x_test, y_test, verbose=0)\n",
        "\n",
        "print('Test loss: ', score[0])\n",
        "print('Test accuracy: ', score[1])\n",
        "print('Training time (seconds): ', sum(times))"
      ],
      "execution_count": 19,
      "outputs": [
        {
          "output_type": "stream",
          "text": [
            "Test loss:  0.019037753343582153\n",
            "Test accuracy:  0.8885999917984009\n",
            "Training time (seconds):  46.80585789680481\n"
          ],
          "name": "stdout"
        }
      ]
    },
    {
      "cell_type": "code",
      "metadata": {
        "colab": {
          "base_uri": "https://localhost:8080/"
        },
        "id": "SaR9FC3NilD1",
        "outputId": "b5ec9201-94dc-4df6-c613-25e90089dfa6"
      },
      "source": [
        "# Adding Layers\n",
        "model = Sequential()\n",
        "model.add(Dense(64, input_dim=(784), activation='relu', kernel_initializer=\"random_uniform\"))\n",
        "model.add(Dense(64, activation='relu', kernel_initializer=\"glorot_uniform\"))\n",
        "model.add(Dense(10, activation='softmax', kernel_initializer=\"glorot_uniform\")) #output the probability\n",
        "\n",
        "model.compile(optimizer='sgd', loss='mean_squared_error', metrics=['accuracy'])\n",
        "\n",
        "time_callback = TimeHistory()\n",
        "my_callbacks = [\n",
        "    keras.callbacks.EarlyStopping(patience=3),\n",
        "    time_callback \n",
        "    ]\n",
        "\n",
        "model.fit(x_train, y_train, epochs=50, batch_size=128 ,validation_data=(x_test,y_test), shuffle=True, verbose=0, callbacks=my_callbacks)\n",
        "times = time_callback.times\n",
        "\n",
        "score = model.evaluate(x_test, y_test, verbose=0)\n",
        "\n",
        "print('Test loss: ', score[0])\n",
        "print('Test accuracy: ', score[1])\n",
        "print('Training time (seconds): ', sum(times))"
      ],
      "execution_count": 20,
      "outputs": [
        {
          "output_type": "stream",
          "text": [
            "Test loss:  0.018437262624502182\n",
            "Test accuracy:  0.8901000022888184\n",
            "Training time (seconds):  47.293946981430054\n"
          ],
          "name": "stdout"
        }
      ]
    },
    {
      "cell_type": "markdown",
      "metadata": {
        "id": "nK-SPnE9k7jc"
      },
      "source": [
        "##### Note \n",
        "Best results comes up by using the default kernel_initializer (Glorot Uniform) but also using for only the first layer the random_uniform and the other two the default one."
      ]
    },
    {
      "cell_type": "markdown",
      "metadata": {
        "id": "QAiaAw2TJ1im"
      },
      "source": [
        "#### [Optimizer Comparison](https://keras.io/api/optimizers/)\n",
        "Optimizers are algorithms or methods used to change the attributes of your neural network. \n",
        "\n",
        "An optimizer is one of the two arguments required for compiling a Keras model"
      ]
    },
    {
      "cell_type": "markdown",
      "metadata": {
        "id": "1KbdeyPTlSpS"
      },
      "source": [
        "[SGD](https://keras.io/api/optimizers/sgd/)\n",
        "\n",
        "Gradient Descent (with momentum) optimizer."
      ]
    },
    {
      "cell_type": "code",
      "metadata": {
        "id": "zFAFjqy8KywF",
        "colab": {
          "base_uri": "https://localhost:8080/"
        },
        "outputId": "0d7033ad-695f-4a2d-df15-1e6830b22fa4"
      },
      "source": [
        "# Adding Layers\n",
        "model = Sequential()\n",
        "model.add(Dense(64, input_dim=(784), activation='relu'))\n",
        "model.add(Dense(64, activation='relu'))\n",
        "model.add(Dense(10, activation='softmax')) #output the probability\n",
        "\n",
        "model.compile(optimizer='sgd', loss='mean_squared_error', metrics=['accuracy'])\n",
        "\n",
        "time_callback = TimeHistory()\n",
        "my_callbacks = [\n",
        "    keras.callbacks.EarlyStopping(patience=3),\n",
        "    time_callback \n",
        "    ]\n",
        "\n",
        "model.fit(x_train, y_train, epochs=50, batch_size=128 ,validation_data=(x_test,y_test), shuffle=True, verbose=0, callbacks=my_callbacks)\n",
        "times = time_callback.times\n",
        "\n",
        "score = model.evaluate(x_test, y_test, verbose=0)\n",
        "\n",
        "print('Test loss: ', score[0])\n",
        "print('Test accuracy: ', score[1])\n",
        "print('Training time (seconds): ', sum(times))"
      ],
      "execution_count": 21,
      "outputs": [
        {
          "output_type": "stream",
          "text": [
            "Test loss:  0.021392758935689926\n",
            "Test accuracy:  0.8752999901771545\n",
            "Training time (seconds):  46.70272898674011\n"
          ],
          "name": "stdout"
        }
      ]
    },
    {
      "cell_type": "markdown",
      "metadata": {
        "id": "mnzyw1VZlNHu"
      },
      "source": [
        "[RMSprop](https://keras.io/api/optimizers/rmsprop/)\n",
        "\n",
        "Optimizer that implements the RMSprop algorithm.\n",
        "\n",
        "The gist of RMSprop is to:\n",
        "\n",
        "Maintain a moving (discounted) average of the square of gradients\n",
        "Divide the gradient by the root of this average\n",
        "This implementation of RMSprop uses plain momentum, not Nesterov momentum.\n",
        "\n",
        "The centered version additionally maintains a moving average of the gradients, and uses that average to estimate the variance."
      ]
    },
    {
      "cell_type": "code",
      "metadata": {
        "colab": {
          "base_uri": "https://localhost:8080/"
        },
        "id": "S7vk0FpVjfEi",
        "outputId": "dfa76a1b-6b6e-441e-d7d1-589176c43732"
      },
      "source": [
        "# Adding Layers\n",
        "model = Sequential()\n",
        "model.add(Dense(64, input_dim=(784), activation='relu'))\n",
        "model.add(Dense(64, activation='relu'))\n",
        "model.add(Dense(10, activation='softmax')) #output the probability\n",
        "\n",
        "model.compile(optimizer='rmsprop', loss='mean_squared_error', metrics=['accuracy'])\n",
        "\n",
        "time_callback = TimeHistory()\n",
        "my_callbacks = [\n",
        "    keras.callbacks.EarlyStopping(patience=3),\n",
        "    time_callback \n",
        "    ]\n",
        "\n",
        "model.fit(x_train, y_train, epochs=50, batch_size=128 ,validation_data=(x_test,y_test), shuffle=True, verbose=0, callbacks=my_callbacks)\n",
        "times = time_callback.times\n",
        "\n",
        "score = model.evaluate(x_test, y_test, verbose=0)\n",
        "\n",
        "print('Test loss: ', score[0])\n",
        "print('Test accuracy: ', score[1])\n",
        "print('Training time (seconds): ', sum(times))"
      ],
      "execution_count": 22,
      "outputs": [
        {
          "output_type": "stream",
          "text": [
            "Test loss:  0.003893623361364007\n",
            "Test accuracy:  0.9757000207901001\n",
            "Training time (seconds):  16.171084880828857\n"
          ],
          "name": "stdout"
        }
      ]
    },
    {
      "cell_type": "markdown",
      "metadata": {
        "id": "X4z1NisqlmHU"
      },
      "source": [
        "[Adam](https://keras.io/api/optimizers/adam/)\n",
        "\n",
        "Optimizer that implements the Adam algorithm.\n",
        "\n",
        "Adam optimization is a stochastic gradient descent method that is based on adaptive estimation of first-order and second-order moments."
      ]
    },
    {
      "cell_type": "code",
      "metadata": {
        "colab": {
          "base_uri": "https://localhost:8080/"
        },
        "id": "Adbf9lPJleYO",
        "outputId": "f6a6ebf7-1195-4f24-f8a2-6b5c4fc9fb67"
      },
      "source": [
        "# Adding Layers\n",
        "model = Sequential()\n",
        "model.add(Dense(64, input_dim=(784), activation='relu'))\n",
        "model.add(Dense(64, activation='relu'))\n",
        "model.add(Dense(10, activation='softmax')) #output the probability\n",
        "\n",
        "model.compile(optimizer='adam', loss='mean_squared_error', metrics=['accuracy'])\n",
        "\n",
        "time_callback = TimeHistory()\n",
        "my_callbacks = [\n",
        "    keras.callbacks.EarlyStopping(patience=3),\n",
        "    time_callback \n",
        "    ]\n",
        "\n",
        "model.fit(x_train, y_train, epochs=50, batch_size=128 ,validation_data=(x_test,y_test), shuffle=True, verbose=0, callbacks=my_callbacks)\n",
        "times = time_callback.times\n",
        "\n",
        "score = model.evaluate(x_test, y_test, verbose=0)\n",
        "\n",
        "print('Test loss: ', score[0])\n",
        "print('Test accuracy: ', score[1])\n",
        "print('Training time (seconds): ', sum(times))"
      ],
      "execution_count": 23,
      "outputs": [
        {
          "output_type": "stream",
          "text": [
            "Test loss:  0.004217017907649279\n",
            "Test accuracy:  0.9729999899864197\n",
            "Training time (seconds):  20.350200176239014\n"
          ],
          "name": "stdout"
        }
      ]
    },
    {
      "cell_type": "markdown",
      "metadata": {
        "id": "6VvnGoXonVvA"
      },
      "source": [
        "[Adamax](https://keras.io/api/optimizers/adamax/)\n",
        "\n",
        "Optimizer that implements the Adamax algorithm.\n",
        "\n",
        "It is a variant of Adam based on the infinity norm. Default parameters follow those provided in the paper. Adamax is sometimes superior to adam, specially in models with embeddings."
      ]
    },
    {
      "cell_type": "code",
      "metadata": {
        "colab": {
          "base_uri": "https://localhost:8080/"
        },
        "id": "gE6bi3qvl7VL",
        "outputId": "0f7dd5db-5db0-4321-e63c-9dec1860f899"
      },
      "source": [
        "# Adding Layers\n",
        "model = Sequential()\n",
        "model.add(Dense(64, input_dim=(784), activation='relu'))\n",
        "model.add(Dense(64, activation='relu'))\n",
        "model.add(Dense(10, activation='softmax')) #output the probability\n",
        "\n",
        "# Adamax\n",
        "model.compile(optimizer='adamax', loss='mean_squared_error', metrics=['accuracy'])\n",
        "\n",
        "time_callback = TimeHistory()\n",
        "my_callbacks = [\n",
        "    keras.callbacks.EarlyStopping(patience=3),\n",
        "    time_callback \n",
        "    ]\n",
        "\n",
        "model.fit(x_train, y_train, epochs=50, batch_size=128 ,validation_data=(x_test,y_test), shuffle=True, verbose=0, callbacks=my_callbacks)\n",
        "times = time_callback.times\n",
        "\n",
        "score = model.evaluate(x_test, y_test, verbose=0)\n",
        "\n",
        "print('Test loss: ', score[0])\n",
        "print('Test accuracy: ', score[1])\n",
        "print('Training time (seconds): ', sum(times))"
      ],
      "execution_count": 24,
      "outputs": [
        {
          "output_type": "stream",
          "text": [
            "Test loss:  0.0038834449369460344\n",
            "Test accuracy:  0.9749000072479248\n",
            "Training time (seconds):  45.75886559486389\n"
          ],
          "name": "stdout"
        }
      ]
    },
    {
      "cell_type": "markdown",
      "metadata": {
        "id": "Wtj0eGwgnXYt"
      },
      "source": [
        "[NAdam](https://keras.io/api/optimizers/Nadam/)\n",
        "\n",
        "Optimizer that implements the NAdam algorithm.\n",
        "\n",
        "Much like Adam is essentially RMSprop with momentum, Nadam is Adam with Nesterov momentum."
      ]
    },
    {
      "cell_type": "code",
      "metadata": {
        "colab": {
          "base_uri": "https://localhost:8080/"
        },
        "id": "4mIgJwdKl8bJ",
        "outputId": "ea0aba74-01e0-48b7-e464-35830bfc6f56"
      },
      "source": [
        "# Adding Layers\n",
        "model = Sequential()\n",
        "model.add(Dense(64, input_dim=(784), activation='relu'))\n",
        "model.add(Dense(64, activation='relu'))\n",
        "model.add(Dense(10, activation='softmax')) #output the probability\n",
        "\n",
        "# Nadam\n",
        "model.compile(optimizer='nadam', loss='mean_squared_error', metrics=['accuracy'])\n",
        "\n",
        "time_callback = TimeHistory()\n",
        "my_callbacks = [\n",
        "    keras.callbacks.EarlyStopping(patience=3),\n",
        "    time_callback \n",
        "    ]\n",
        "\n",
        "model.fit(x_train, y_train, epochs=50, batch_size=128 ,validation_data=(x_test,y_test), shuffle=True, verbose=0, callbacks=my_callbacks)\n",
        "times = time_callback.times\n",
        "\n",
        "score = model.evaluate(x_test, y_test, verbose=0)\n",
        "\n",
        "print('Test loss: ', score[0])\n",
        "print('Test accuracy: ', score[1])\n",
        "print('Training time (seconds): ', sum(times))"
      ],
      "execution_count": 25,
      "outputs": [
        {
          "output_type": "stream",
          "text": [
            "Test loss:  0.004141924437135458\n",
            "Test accuracy:  0.973800003528595\n",
            "Training time (seconds):  18.951260805130005\n"
          ],
          "name": "stdout"
        }
      ]
    },
    {
      "cell_type": "markdown",
      "metadata": {
        "id": "2D8IvH44KEPa"
      },
      "source": [
        "#### [Loss Comparison](https://keras.io/api/losses/)\n",
        "The purpose of loss functions is to compute the quantity that a model should seek to minimize during training."
      ]
    },
    {
      "cell_type": "markdown",
      "metadata": {
        "id": "2WSn3ORovcEP"
      },
      "source": [
        "[Poisson](https://keras.io/api/losses/probabilistic_losses/#poisson-function)\n",
        "\n",
        "Computes the Poisson loss between y_true and y_pred.\n",
        "\n",
        "![Screenshot_1.png](data:image/png;base64,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)"
      ]
    },
    {
      "cell_type": "code",
      "metadata": {
        "id": "50MfHJK1KzIO",
        "colab": {
          "base_uri": "https://localhost:8080/"
        },
        "outputId": "c281f6b7-55ff-4005-8f37-eb6d38dd2bde"
      },
      "source": [
        "# Adding Layers\n",
        "model = Sequential()\n",
        "model.add(Dense(64, input_dim=(784), activation='relu'))\n",
        "model.add(Dense(64, activation='relu'))\n",
        "model.add(Dense(10, activation='softmax')) #output the probability\n",
        "\n",
        "# Adam\n",
        "model.compile(optimizer='rmsprop', loss='poisson', metrics=['accuracy'])\n",
        "\n",
        "time_callback = TimeHistory()\n",
        "my_callbacks = [\n",
        "    keras.callbacks.EarlyStopping(patience=3),\n",
        "    time_callback \n",
        "    ]\n",
        "\n",
        "model.fit(x_train, y_train, epochs=50, batch_size=128 ,validation_data=(x_test,y_test), shuffle=True, verbose=0, callbacks=my_callbacks)\n",
        "times = time_callback.times\n",
        "\n",
        "score = model.evaluate(x_test, y_test, verbose=0)\n",
        "\n",
        "print('Test loss: ', score[0])\n",
        "print('Test accuracy: ', score[1])\n",
        "print('Training time (seconds): ', sum(times))"
      ],
      "execution_count": 26,
      "outputs": [
        {
          "output_type": "stream",
          "text": [
            "Test loss:  0.10912120342254639\n",
            "Test accuracy:  0.9751999974250793\n",
            "Training time (seconds):  11.049522638320923\n"
          ],
          "name": "stdout"
        }
      ]
    },
    {
      "cell_type": "markdown",
      "metadata": {
        "id": "bEz9Yz-yv2cU"
      },
      "source": [
        "[Mean Squared Error](https://keras.io/api/losses/regression_losses/#mean_squared_error-function)\n",
        "\n",
        "Computes the mean of squares of errors between labels and predictions.\n",
        "\n",
        "loss = square(y_true - y_pred)"
      ]
    },
    {
      "cell_type": "code",
      "metadata": {
        "colab": {
          "base_uri": "https://localhost:8080/"
        },
        "id": "7sNjpwXJvkmc",
        "outputId": "4a283de7-3047-4b2f-d739-bab271e93476"
      },
      "source": [
        "# Adding Layers\n",
        "model = Sequential()\n",
        "model.add(Dense(64, input_dim=(784), activation='relu'))\n",
        "model.add(Dense(64, activation='relu'))\n",
        "model.add(Dense(10, activation='softmax')) #output the probability\n",
        "\n",
        "# Adam\n",
        "model.compile(optimizer='rmsprop', loss='mean_squared_error', metrics=['accuracy'])\n",
        "\n",
        "time_callback = TimeHistory()\n",
        "my_callbacks = [\n",
        "    keras.callbacks.EarlyStopping(patience=3),\n",
        "    time_callback \n",
        "    ]\n",
        "\n",
        "model.fit(x_train, y_train, epochs=50, batch_size=128 ,validation_data=(x_test,y_test), shuffle=True, verbose=0, callbacks=my_callbacks)\n",
        "times = time_callback.times\n",
        "\n",
        "score = model.evaluate(x_test, y_test, verbose=0)\n",
        "\n",
        "print('Test loss: ', score[0])\n",
        "print('Test accuracy: ', score[1])\n",
        "print('Training time (seconds): ', sum(times))"
      ],
      "execution_count": 27,
      "outputs": [
        {
          "output_type": "stream",
          "text": [
            "Test loss:  0.004193246364593506\n",
            "Test accuracy:  0.9733999967575073\n",
            "Training time (seconds):  12.04507827758789\n"
          ],
          "name": "stdout"
        }
      ]
    },
    {
      "cell_type": "markdown",
      "metadata": {
        "id": "VdTQzaYCwGnK"
      },
      "source": [
        "[Mean Absolute Error](https://keras.io/api/losses/regression_losses/#mean_absolute_error-function)\n",
        "\n",
        "Computes the mean of absolute difference between labels and predictions.\n",
        "\n",
        "loss = abs(y_true - y_pred)"
      ]
    },
    {
      "cell_type": "code",
      "metadata": {
        "colab": {
          "base_uri": "https://localhost:8080/"
        },
        "id": "rLCc5cotwMNs",
        "outputId": "c0e95038-9c06-43da-bcfe-4397896d659c"
      },
      "source": [
        "# Adding Layers\n",
        "model = Sequential()\n",
        "model.add(Dense(64, input_dim=(784), activation='relu'))\n",
        "model.add(Dense(64, activation='relu'))\n",
        "model.add(Dense(10, activation='softmax')) #output the probability\n",
        "\n",
        "# Adam\n",
        "model.compile(optimizer='rmsprop', loss='mean_absolute_error', metrics=['accuracy'])\n",
        "\n",
        "time_callback = TimeHistory()\n",
        "my_callbacks = [\n",
        "    keras.callbacks.EarlyStopping(patience=3),\n",
        "    time_callback \n",
        "    ]\n",
        "\n",
        "model.fit(x_train, y_train, epochs=50, batch_size=128 ,validation_data=(x_test,y_test), shuffle=True, verbose=0, callbacks=my_callbacks)\n",
        "times = time_callback.times\n",
        "\n",
        "score = model.evaluate(x_test, y_test, verbose=0)\n",
        "\n",
        "print('Test loss: ', score[0])\n",
        "print('Test accuracy: ', score[1])\n",
        "print('Training time (seconds): ', sum(times))"
      ],
      "execution_count": 28,
      "outputs": [
        {
          "output_type": "stream",
          "text": [
            "Test loss:  0.006740806624293327\n",
            "Test accuracy:  0.9678000211715698\n",
            "Training time (seconds):  15.855898380279541\n"
          ],
          "name": "stdout"
        }
      ]
    },
    {
      "cell_type": "markdown",
      "metadata": {
        "id": "-lpEXphzTYo7"
      },
      "source": [
        "[Categorical Crossentropy](https://keras.io/api/losses/probabilistic_losses/#categorical_crossentropy-function)\n",
        "\n",
        "Computes the categorical crossentropy loss.\n",
        "\n",
        "Use this crossentropy loss function when there are two or more label classes. We expect labels to be provided in a one_hot representation."
      ]
    },
    {
      "cell_type": "code",
      "metadata": {
        "colab": {
          "base_uri": "https://localhost:8080/"
        },
        "id": "azTzj8jITMD2",
        "outputId": "6f5f4f97-03f6-42f3-98bc-bc0cd3eb9cc9"
      },
      "source": [
        "# Adding Layers\n",
        "model = Sequential()\n",
        "model.add(Dense(64, input_dim=(784), activation='relu'))\n",
        "model.add(Dense(64, activation='relu'))\n",
        "model.add(Dense(10, activation='softmax')) #output the probability\n",
        "\n",
        "# Adam\n",
        "model.compile(optimizer='rmsprop', loss='categorical_crossentropy', metrics=['accuracy'])\n",
        "\n",
        "time_callback = TimeHistory()\n",
        "my_callbacks = [\n",
        "    keras.callbacks.EarlyStopping(patience=3),\n",
        "    time_callback \n",
        "    ]\n",
        "\n",
        "model.fit(x_train, y_train, epochs=50, batch_size=128 ,validation_data=(x_test,y_test), shuffle=True, verbose=0, callbacks=my_callbacks)\n",
        "times = time_callback.times\n",
        "\n",
        "score = model.evaluate(x_test, y_test, verbose=0)\n",
        "\n",
        "print('Test loss: ', score[0])\n",
        "print('Test accuracy: ', score[1])\n",
        "print('Training time (seconds): ', sum(times))"
      ],
      "execution_count": 29,
      "outputs": [
        {
          "output_type": "stream",
          "text": [
            "Test loss:  0.09058729559183121\n",
            "Test accuracy:  0.9763000011444092\n",
            "Training time (seconds):  12.953055143356323\n"
          ],
          "name": "stdout"
        }
      ]
    },
    {
      "cell_type": "code",
      "metadata": {
        "colab": {
          "base_uri": "https://localhost:8080/"
        },
        "id": "rG8Oe3jpTOyB",
        "outputId": "cefb8252-de4f-468f-fbfd-d1275b7ba6a6"
      },
      "source": [
        "# Adding Layers\n",
        "model = Sequential()\n",
        "model.add(Dense(64, input_dim=(784), activation='relu'))\n",
        "model.add(Dense(64, activation='relu'))\n",
        "model.add(Dense(10, activation='softmax')) #output the probability\n",
        "\n",
        "# Adam\n",
        "model.compile(optimizer='adam', loss='categorical_crossentropy', metrics=['accuracy'])\n",
        "\n",
        "time_callback = TimeHistory()\n",
        "my_callbacks = [\n",
        "    keras.callbacks.EarlyStopping(patience=3),\n",
        "    time_callback \n",
        "    ]\n",
        "\n",
        "model.fit(x_train, y_train, epochs=50, batch_size=128 ,validation_data=(x_test,y_test), shuffle=True, verbose=0, callbacks=my_callbacks)\n",
        "times = time_callback.times\n",
        "\n",
        "score = model.evaluate(x_test, y_test, verbose=0)\n",
        "\n",
        "print('Test loss: ', score[0])\n",
        "print('Test accuracy: ', score[1])\n",
        "print('Training time (seconds): ', sum(times))"
      ],
      "execution_count": 30,
      "outputs": [
        {
          "output_type": "stream",
          "text": [
            "Test loss:  0.09367303550243378\n",
            "Test accuracy:  0.9754999876022339\n",
            "Training time (seconds):  15.252958059310913\n"
          ],
          "name": "stdout"
        }
      ]
    },
    {
      "cell_type": "markdown",
      "metadata": {
        "id": "5IwlgkypKJ0j"
      },
      "source": [
        "#### Batch Size Influence\n",
        "\n",
        "[Traid-off between batch size and number of iterations for training.](https://stats.stackexchange.com/questions/164876/what-is-the-trade-off-between-batch-size-and-number-of-iterations-to-train-a-neu)"
      ]
    },
    {
      "cell_type": "code",
      "metadata": {
        "id": "gmgnUXW1Kzzq",
        "colab": {
          "base_uri": "https://localhost:8080/"
        },
        "outputId": "4ef71072-9158-406d-d4bd-134518512444"
      },
      "source": [
        "# Adding Layers\n",
        "model = Sequential()\n",
        "model.add(Dense(64, input_dim=(784), activation='relu'))\n",
        "model.add(Dense(64, activation='relu'))\n",
        "model.add(Dense(10, activation='softmax')) #output the probability\n",
        "\n",
        "model.compile(optimizer='adam', loss='mean_squared_error', metrics=['accuracy'])\n",
        "\n",
        "time_callback = TimeHistory()\n",
        "my_callbacks = [\n",
        "    keras.callbacks.EarlyStopping(patience=3),\n",
        "    time_callback \n",
        "    ]\n",
        "\n",
        "model.fit(x_train, y_train, epochs=50, batch_size=512 ,validation_data=(x_test,y_test), shuffle=True, verbose=0, callbacks=my_callbacks)\n",
        "times = time_callback.times\n",
        "\n",
        "score = model.evaluate(x_test, y_test, verbose=0)\n",
        "\n",
        "print('Test loss: ', score[0])\n",
        "print('Test accuracy: ', score[1])\n",
        "print('Training time (seconds): ', sum(times))"
      ],
      "execution_count": 31,
      "outputs": [
        {
          "output_type": "stream",
          "text": [
            "Test loss:  0.0043238019570708275\n",
            "Test accuracy:  0.9717000126838684\n",
            "Training time (seconds):  13.305387496948242\n"
          ],
          "name": "stdout"
        }
      ]
    },
    {
      "cell_type": "code",
      "metadata": {
        "colab": {
          "base_uri": "https://localhost:8080/"
        },
        "id": "EobCiPG_T1GP",
        "outputId": "eb91db8d-4817-427a-b911-613961716771"
      },
      "source": [
        "# Adding Layers\n",
        "model = Sequential()\n",
        "model.add(Dense(64, input_dim=(784), activation='relu'))\n",
        "model.add(Dense(64, activation='relu'))\n",
        "model.add(Dense(10, activation='softmax')) #output the probability\n",
        "\n",
        "model.compile(optimizer='rmsprop', loss='mean_squared_error', metrics=['accuracy'])\n",
        "\n",
        "time_callback = TimeHistory()\n",
        "my_callbacks = [\n",
        "    keras.callbacks.EarlyStopping(patience=3),\n",
        "    time_callback \n",
        "    ]\n",
        "\n",
        "model.fit(x_train, y_train, epochs=50, batch_size=512 ,validation_data=(x_test,y_test), shuffle=True, verbose=0, callbacks=my_callbacks)\n",
        "times = time_callback.times\n",
        "\n",
        "score = model.evaluate(x_test, y_test, verbose=0)\n",
        "\n",
        "print('Test loss: ', score[0])\n",
        "print('Test accuracy: ', score[1])\n",
        "print('Training time (seconds): ', sum(times))"
      ],
      "execution_count": 32,
      "outputs": [
        {
          "output_type": "stream",
          "text": [
            "Test loss:  0.0051661888137459755\n",
            "Test accuracy:  0.9657999873161316\n",
            "Training time (seconds):  8.520832061767578\n"
          ],
          "name": "stdout"
        }
      ]
    },
    {
      "cell_type": "code",
      "metadata": {
        "colab": {
          "base_uri": "https://localhost:8080/"
        },
        "id": "aQJDYsWRT8BD",
        "outputId": "5f2381ab-aaa3-4135-da90-5aa29a4a44ae"
      },
      "source": [
        "# Adding Layers\n",
        "model = Sequential()\n",
        "model.add(Dense(64, input_dim=(784), activation='relu'))\n",
        "model.add(Dense(64, activation='relu'))\n",
        "model.add(Dense(10, activation='softmax')) #output the probability\n",
        "\n",
        "model.compile(optimizer='adam', loss='categorical_crossentropy', metrics=['accuracy'])\n",
        "\n",
        "time_callback = TimeHistory()\n",
        "my_callbacks = [\n",
        "    keras.callbacks.EarlyStopping(patience=3),\n",
        "    time_callback \n",
        "    ]\n",
        "\n",
        "model.fit(x_train, y_train, epochs=50, batch_size=512 ,validation_data=(x_test,y_test), shuffle=True, verbose=0, callbacks=my_callbacks)\n",
        "times = time_callback.times\n",
        "\n",
        "score = model.evaluate(x_test, y_test, verbose=0)\n",
        "\n",
        "print('Test loss: ', score[0])\n",
        "print('Test accuracy: ', score[1])\n",
        "print('Training time (seconds): ', sum(times))"
      ],
      "execution_count": 33,
      "outputs": [
        {
          "output_type": "stream",
          "text": [
            "Test loss:  0.09204675257205963\n",
            "Test accuracy:  0.9718000292778015\n",
            "Training time (seconds):  11.222652912139893\n"
          ],
          "name": "stdout"
        }
      ]
    },
    {
      "cell_type": "code",
      "metadata": {
        "colab": {
          "base_uri": "https://localhost:8080/"
        },
        "id": "Ob2wmTDaT70q",
        "outputId": "0477c9a7-af9a-402b-ed83-28f9d080bf90"
      },
      "source": [
        "# Adding Layers\n",
        "model = Sequential()\n",
        "model.add(Dense(64, input_dim=(784), activation='relu'))\n",
        "model.add(Dense(64, activation='relu'))\n",
        "model.add(Dense(10, activation='softmax')) #output the probability\n",
        "\n",
        "model.compile(optimizer='rmsprop', loss='categorical_crossentropy', metrics=['accuracy'])\n",
        "\n",
        "time_callback = TimeHistory()\n",
        "my_callbacks = [\n",
        "    keras.callbacks.EarlyStopping(patience=3),\n",
        "    time_callback \n",
        "    ]\n",
        "\n",
        "model.fit(x_train, y_train, epochs=50, batch_size=512 ,validation_data=(x_test,y_test), shuffle=True, verbose=0, callbacks=my_callbacks)\n",
        "times = time_callback.times\n",
        "\n",
        "score = model.evaluate(x_test, y_test, verbose=0)\n",
        "\n",
        "print('Test loss: ', score[0])\n",
        "print('Test accuracy: ', score[1])\n",
        "print('Training time (seconds): ', sum(times))"
      ],
      "execution_count": 34,
      "outputs": [
        {
          "output_type": "stream",
          "text": [
            "Test loss:  0.10145923495292664\n",
            "Test accuracy:  0.9708999991416931\n",
            "Training time (seconds):  9.808069229125977\n"
          ],
          "name": "stdout"
        }
      ]
    },
    {
      "cell_type": "markdown",
      "metadata": {
        "id": "hXtvUGLaYBlp"
      },
      "source": [
        "### Optimized Model"
      ]
    },
    {
      "cell_type": "code",
      "metadata": {
        "colab": {
          "base_uri": "https://localhost:8080/"
        },
        "id": "86xYvpMMUvLP",
        "outputId": "c6e1ee1f-99dc-4053-e8b2-ccca785e29bd"
      },
      "source": [
        "# Adding Layers\n",
        "model = Sequential()\n",
        "model.add(Dense(64, input_dim=(784), activation='relu'))\n",
        "model.add(Dense(64, activation='relu'))\n",
        "model.add(Dense(10, activation='softmax')) #output the probability\n",
        "\n",
        "model.compile(optimizer='adam', loss='mean_squared_error', metrics=['accuracy'])\n",
        "\n",
        "time_callback = TimeHistory() # callback to get the times for each epoch\n",
        "my_callbacks = [\n",
        "    keras.callbacks.EarlyStopping(monitor='val_loss', patience=3), # Trying to avoid overfitting\n",
        "    time_callback \n",
        "    ]\n",
        "\n",
        "history = model.fit(x_train, y_train, epochs=50, batch_size=256 ,validation_data=(x_test,y_test), shuffle=True, verbose=0, callbacks=my_callbacks)\n",
        "times = time_callback.times # list of all the training times for each epoch\n",
        "\n",
        "score = model.evaluate(x_test, y_test, verbose=0)\n",
        "\n",
        "print('Test loss: ', score[0])\n",
        "print('Test accuracy: ', score[1])\n",
        "print('Training time (seconds): ', sum(times))"
      ],
      "execution_count": 35,
      "outputs": [
        {
          "output_type": "stream",
          "text": [
            "Test loss:  0.004337915685027838\n",
            "Test accuracy:  0.97079998254776\n",
            "Training time (seconds):  10.845935583114624\n"
          ],
          "name": "stdout"
        }
      ]
    },
    {
      "cell_type": "code",
      "metadata": {
        "colab": {
          "base_uri": "https://localhost:8080/",
          "height": 361
        },
        "id": "JCnNpg1MMd9q",
        "outputId": "e8a86316-5436-47d3-c2cf-93d37bbf7ab3"
      },
      "source": [
        "(_, _), (X, Y) = mnist.load_data() # getting the test data with original size\n",
        "\n",
        "wrong_predictions_indices = [] # list for the indices with wrong predicted label\n",
        "\n",
        "predictions = model.predict(x_test) # get the predictions\n",
        "\n",
        "for i in range(len(y_test)-9700): # iterate through the first 200 samples\n",
        "  if np.argmax(predictions[i]) != np.argmax(y_test[i]): # check it predicted label is different from true label \n",
        "    wrong_predictions_indices.append(i) # append the indices of the wrongly predicted samples\n",
        "\n",
        "# Show the results (errors)\n",
        "temp = 1\n",
        "for i in wrong_predictions_indices: \n",
        "  print(\"Predicted Label: \", np.argmax(predictions[i]))\n",
        "  print(\"True Label: \", np.argmax(y_test[i]))\n",
        "  plt.subplot(330 + 1 + temp)\n",
        "  plt.imshow(X[i], cmap=plt.get_cmap('gray'))\n",
        "  temp = temp + 1\n",
        "plt.show()"
      ],
      "execution_count": 36,
      "outputs": [
        {
          "output_type": "stream",
          "text": [
            "Predicted Label:  6\n",
            "True Label:  5\n",
            "Predicted Label:  4\n",
            "True Label:  7\n",
            "Predicted Label:  9\n",
            "True Label:  2\n",
            "Predicted Label:  2\n",
            "True Label:  4\n",
            "Predicted Label:  0\n",
            "True Label:  6\n"
          ],
          "name": "stdout"
        },
        {
          "output_type": "display_data",
          "data": {
            "image/png": "[encoded data removed]",
            "text/plain": [
              "<Figure size 432x288 with 5 Axes>"
            ]
          },
          "metadata": {
            "tags": [],
            "needs_background": "light"
          }
        }
      ]
    },
    {
      "cell_type": "markdown",
      "metadata": {
        "id": "aVmX80bZ6thm"
      },
      "source": [
        "## Evaluating the model"
      ]
    },
    {
      "cell_type": "markdown",
      "metadata": {
        "id": "0-BmG_H8AHpO"
      },
      "source": [
        "#### Plotting the model"
      ]
    },
    {
      "cell_type": "code",
      "metadata": {
        "colab": {
          "base_uri": "https://localhost:8080/",
          "height": 121
        },
        "id": "hIV35KphAHaf",
        "outputId": "a9e6d2ce-4e96-4264-d16c-09227aac3edf"
      },
      "source": [
        "from keras.utils import plot_model\n",
        "\n",
        "plot_model(model, to_file='model.png', show_shapes=True, show_layer_names=False, rankdir='LR')"
      ],
      "execution_count": 37,
      "outputs": [
        {
          "output_type": "execute_result",
          "data": {
            "image/png": "[encoded data removed]",
            "text/plain": [
              "<IPython.core.display.Image object>"
            ]
          },
          "metadata": {
            "tags": []
          },
          "execution_count": 37
        }
      ]
    },
    {
      "cell_type": "code",
      "metadata": {
        "colab": {
          "base_uri": "https://localhost:8080/"
        },
        "id": "ZcGZrnkLAYCY",
        "outputId": "8e2308c9-bafe-443a-e553-4d473bfc355f"
      },
      "source": [
        "print(model.summary())"
      ],
      "execution_count": 38,
      "outputs": [
        {
          "output_type": "stream",
          "text": [
            "Model: \"sequential_25\"\n",
            "_________________________________________________________________\n",
            "Layer (type)                 Output Shape              Param #   \n",
            "=================================================================\n",
            "dense_74 (Dense)             (None, 64)                50240     \n",
            "_________________________________________________________________\n",
            "dense_75 (Dense)             (None, 64)                4160      \n",
            "_________________________________________________________________\n",
            "dense_76 (Dense)             (None, 10)                650       \n",
            "=================================================================\n",
            "Total params: 55,050\n",
            "Trainable params: 55,050\n",
            "Non-trainable params: 0\n",
            "_________________________________________________________________\n",
            "None\n"
          ],
          "name": "stdout"
        }
      ]
    },
    {
      "cell_type": "markdown",
      "metadata": {
        "id": "d6eJ650O65Ca"
      },
      "source": [
        "#### Plotting Accuracy and Loss"
      ]
    },
    {
      "cell_type": "code",
      "metadata": {
        "colab": {
          "base_uri": "https://localhost:8080/",
          "height": 590
        },
        "id": "Me6rEWcd6yj8",
        "outputId": "2c51d446-35b7-47ad-cd9e-435a890df05e"
      },
      "source": [
        "print(history.history.keys())\n",
        "\n",
        "#  \"Accuracy\"\n",
        "plt.plot(history.history['accuracy'])\n",
        "plt.plot(history.history['val_accuracy'])\n",
        "plt.title('model accuracy')\n",
        "plt.ylabel('accuracy')\n",
        "plt.xlabel('epoch')\n",
        "plt.legend(['train', 'validation'], loc='upper left')\n",
        "plt.show()\n",
        "# \"Loss\"\n",
        "plt.plot(history.history['loss'])\n",
        "plt.plot(history.history['val_loss'])\n",
        "plt.title('model loss')\n",
        "plt.ylabel('loss')\n",
        "plt.xlabel('epoch')\n",
        "plt.legend(['train', 'validation'], loc='upper left')\n",
        "plt.show()"
      ],
      "execution_count": 39,
      "outputs": [
        {
          "output_type": "stream",
          "text": [
            "dict_keys(['loss', 'accuracy', 'val_loss', 'val_accuracy'])\n"
          ],
          "name": "stdout"
        },
        {
          "output_type": "display_data",
          "data": {
            "image/png": "[encoded data removed]",
            "text/plain": [
              "<Figure size 432x288 with 1 Axes>"
            ]
          },
          "metadata": {
            "tags": [],
            "needs_background": "light"
          }
        },
        {
          "output_type": "display_data",
          "data": {
            "image/png": "[encoded data removed]",
            "text/plain": [
              "<Figure size 432x288 with 1 Axes>"
            ]
          },
          "metadata": {
            "tags": [],
            "needs_background": "light"
          }
        }
      ]
    },
    {
      "cell_type": "markdown",
      "metadata": {
        "id": "ZffLjufp69_Y"
      },
      "source": [
        "#### Consfusion Matrix"
      ]
    },
    {
      "cell_type": "code",
      "metadata": {
        "colab": {
          "base_uri": "https://localhost:8080/",
          "height": 187
        },
        "id": "dZReyipf7CJQ",
        "outputId": "b9f67392-3651-4153-a235-ad684a6a198f"
      },
      "source": [
        "y_pred=model.predict(x_test)\n",
        "matrix = confusion_matrix(y_test.argmax(axis=1), y_pred.argmax(axis=1))\n",
        "display(matrix)"
      ],
      "execution_count": 40,
      "outputs": [
        {
          "output_type": "display_data",
          "data": {
            "text/plain": [
              "array([[ 969,    0,    2,    0,    0,    0,    5,    1,    3,    0],\n",
              "       [   0, 1120,    4,    3,    0,    1,    3,    1,    3,    0],\n",
              "       [   5,    1, 1005,    6,    0,    0,    4,    4,    6,    1],\n",
              "       [   0,    0,    4,  992,    0,    1,    0,    3,    5,    5],\n",
              "       [   1,    0,    7,    1,  960,    0,    3,    0,    2,    8],\n",
              "       [   4,    0,    0,   22,    2,  838,   11,    1,    8,    6],\n",
              "       [   2,    1,    2,    1,    2,    4,  942,    1,    3,    0],\n",
              "       [   0,    8,   19,   11,    3,    1,    0,  965,    3,   18],\n",
              "       [   6,    0,    4,    7,    5,    4,    3,    2,  939,    4],\n",
              "       [   4,    3,    0,    7,    7,    1,    0,    5,    4,  978]])"
            ]
          },
          "metadata": {
            "tags": []
          }
        }
      ]
    },
    {
      "cell_type": "code",
      "metadata": {
        "colab": {
          "base_uri": "https://localhost:8080/",
          "height": 350
        },
        "id": "EDUwR5K47_jT",
        "outputId": "fb33824e-a8b6-4379-9f63-2e30602fc422"
      },
      "source": [
        "plt.rcParams[\"figure.figsize\"] = (10,5) # in order to increase the size of the plots\n",
        "\n",
        "ax= plt.subplot()\n",
        "sns.heatmap(matrix, annot=True, ax = ax); #annot=True to annotate cells\n",
        "\n",
        "# labels, title and ticks\n",
        "ax.set_xlabel('Predicted labels');ax.set_ylabel('True labels'); \n",
        "ax.set_title('Confusion Matrix'); \n",
        "ax.xaxis.set_ticklabels(['0', '1','2', '3', '4', '5', '6', '7', '8', '9']); ax.yaxis.set_ticklabels(['0', '1','2', '3', '4', '5', '6', '7', '8', '9']);"
      ],
      "execution_count": 41,
      "outputs": [
        {
          "output_type": "display_data",
          "data": {
            "image/png": "[encoded data removed]",
            "text/plain": [
              "<Figure size 720x360 with 2 Axes>"
            ]
          },
          "metadata": {
            "tags": [],
            "needs_background": "light"
          }
        }
      ]
    },
    {
      "cell_type": "markdown",
      "metadata": {
        "id": "Tzewt-4nvlSC"
      },
      "source": [
        "## Sources\n",
        "\n",
        "https://keras.io/\n",
        "\n",
        "https://mlfromscratch.com/activation-functions-explained/#/\n",
        "\n",
        "https://gist.github.com/nad2000/6100df204946da558212203ce401dffa\n",
        "https://www.kaggle.com/siebenrock/activation-functions\n",
        "\n",
        "https://stackoverflow.com/questions/43178668/record-the-computation-time-for-each-epoch-in-keras-during-model-fit\n",
        "\n",
        "https://towardsai.net/p/data-science/how-when-and-why-should-you-normalize-standardize-rescale-your-data-3f083def38ff\n",
        "\n",
        "https://hackernoon.com/what-is-one-hot-encoding-why-and-when-do-you-have-to-use-it-e3c6186d008f\n"
      ]
    }
  ]
}