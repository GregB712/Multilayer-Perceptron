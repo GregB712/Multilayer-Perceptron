{
  "nbformat": 4,
  "nbformat_minor": 0,
  "metadata": {
    "colab": {
      "name": "Radial Basis Neural Network.ipynb",
      "provenance": [],
      "collapsed_sections": [],
      "toc_visible": true,
      "authorship_tag": "ABX9TyPYL6uOq4u1S/P4cciM9ctW"
    },
    "kernelspec": {
      "name": "python3",
      "display_name": "Python 3"
    }
  },
  "cells": [
    {
      "cell_type": "markdown",
      "metadata": {
        "id": "pYmhtw1jXXlh"
      },
      "source": [
        "# Simple Custon Radial Basis Neural Network"
      ]
    },
    {
      "cell_type": "code",
      "metadata": {
        "id": "MwDhVzatqyUP"
      },
      "source": [
        "# Importing needed libraries\r\n",
        "from keras.utils import np_utils\r\n",
        "from keras.datasets import mnist\r\n",
        "\r\n",
        "from keras.wrappers.scikit_learn import KerasClassifier\r\n",
        "from keras.models import Sequential\r\n",
        "from keras.layers import Dense\r\n",
        "from keras.layers import Input\r\n",
        "\r\n",
        "from keras.layers import Layer\r\n",
        "from keras import backend as K\r\n",
        "\r\n",
        "import numpy as np\r\n",
        "import matplotlib.pyplot as plt\r\n",
        "\r\n",
        "import seaborn as sns\r\n",
        "\r\n",
        "import pandas as pd\r\n",
        "\r\n",
        "from sklearn.metrics import confusion_matrix\r\n",
        "\r\n",
        "from sklearn.decomposition import PCA\r\n",
        "from sklearn.model_selection import GridSearchCV\r\n",
        "\r\n",
        "import time\r\n",
        "\r\n",
        "from sklearn.metrics import confusion_matrix\r\n",
        "\r\n",
        "import warnings #needed for this type of classifier\r\n",
        "warnings.simplefilter(action='ignore', category=Warning)"
      ],
      "execution_count": null,
      "outputs": []
    },
    {
      "cell_type": "markdown",
      "metadata": {
        "id": "Wm4zS3teXpbh"
      },
      "source": [
        "### Data Preprocessing Level"
      ]
    },
    {
      "cell_type": "code",
      "metadata": {
        "id": "EO30N7Glq4jr",
        "colab": {
          "base_uri": "https://localhost:8080/"
        },
        "outputId": "245d873c-23be-4b61-9d84-f95872ed647a"
      },
      "source": [
        "# Load MNIST digit dataset\r\n",
        "(x_train, y_train), (x_test, y_test) = mnist.load_data()"
      ],
      "execution_count": null,
      "outputs": [
        {
          "output_type": "stream",
          "text": [
            "Downloading data from https://storage.googleapis.com/tensorflow/tf-keras-datasets/mnist.npz\n",
            "11493376/11490434 [==============================] - 1s 0us/step\n"
          ],
          "name": "stdout"
        }
      ]
    },
    {
      "cell_type": "code",
      "metadata": {
        "colab": {
          "base_uri": "https://localhost:8080/",
          "height": 316
        },
        "id": "iUSeOF_jXtvY",
        "outputId": "c086d0ca-f332-4604-83a2-5d89229c4e8c"
      },
      "source": [
        "# Plot a sample of the  data\r\n",
        "\r\n",
        "# Dimensions of data\r\n",
        "print('X_train: ' + str(x_train.shape))\r\n",
        "print('Y_train: ' + str(y_train.shape))\r\n",
        "print('X_test:  '  + str(x_test.shape))\r\n",
        "print('Y_test:  '  + str(y_test.shape))\r\n",
        "print('\\n')\r\n",
        "\r\n",
        "plt.figure(figsize=(9, 3))\r\n",
        "for i in range(9):  \r\n",
        "  plt.subplot(330 + 1 + i)\r\n",
        "  plt.imshow(x_train[i], cmap=plt.get_cmap('gray'))\r\n",
        "  \r\n",
        "plt.show()"
      ],
      "execution_count": null,
      "outputs": [
        {
          "output_type": "stream",
          "text": [
            "X_train: (60000, 28, 28)\n",
            "Y_train: (60000,)\n",
            "X_test:  (10000, 28, 28)\n",
            "Y_test:  (10000,)\n",
            "\n",
            "\n"
          ],
          "name": "stdout"
        },
        {
          "output_type": "display_data",
          "data": {
            "image/png": "[encoded data removed]",
            "text/plain": [
              "<Figure size 648x216 with 9 Axes>"
            ]
          },
          "metadata": {
            "tags": [],
            "needs_background": "light"
          }
        }
      ]
    },
    {
      "cell_type": "markdown",
      "metadata": {
        "id": "ZaRD6yPaYFYB"
      },
      "source": [
        "#### Handling the data to fit the model"
      ]
    },
    {
      "cell_type": "markdown",
      "metadata": {
        "id": "cIuuSAVMYHCN"
      },
      "source": [
        "**“Normalizing”** a vector most often means dividing by a norm of the vector. It also often refers to rescaling by the minimum and range of the vector, to make all the elements lie between 0 and 1 thus bringing all the values of numeric columns in the dataset to a common scale.\r\n",
        "\r\n",
        "The goal of **normalization** is to change the values of numeric columns in the dataset to a common scale, without distorting differences in the ranges of values."
      ]
    },
    {
      "cell_type": "markdown",
      "metadata": {
        "id": "IZH7YkKuYKyy"
      },
      "source": [
        "**One hot encoding** is a process by which categorical variables are converted into a form that could be provided to ML algorithms to do a better job in prediction."
      ]
    },
    {
      "cell_type": "code",
      "metadata": {
        "id": "5ohkS9Hlq7gt"
      },
      "source": [
        "# Reshaping input size\r\n",
        "x_train = x_train.reshape(x_train.shape[0], x_train.shape[1]*x_train.shape[2])\r\n",
        "x_test = x_test.reshape(x_test.shape[0], x_test.shape[1]*x_test.shape[2])\r\n",
        "\r\n",
        "# Normalization\r\n",
        "x_train = x_train / 255.0\r\n",
        "x_test = x_test / 255.0\r\n",
        "\r\n",
        "# Labeling (one hot encoding)\r\n",
        "y_train = np_utils.to_categorical(y_train, 10)\r\n",
        "y_test = np_utils.to_categorical(y_test, 10)"
      ],
      "execution_count": null,
      "outputs": []
    },
    {
      "cell_type": "markdown",
      "metadata": {
        "id": "sqEkfVUeayFF"
      },
      "source": [
        "**Principal component analysis (PCA)**:\r\n",
        "\r\n",
        "Linear dimensionality reduction using Singular Value Decomposition of the data to project it to a lower dimensional space. The input data is centered but not scaled for each feature before applying the SVD."
      ]
    },
    {
      "cell_type": "code",
      "metadata": {
        "id": "llmLnd75vWOS"
      },
      "source": [
        "n_components = 100 #Best scenario according to diagrams and tests.\r\n",
        "\r\n",
        "pca = PCA(n_components=n_components, svd_solver='randomized',\r\n",
        "          whiten=True).fit(x_train)\r\n",
        "\r\n",
        "x_train_pca = pca.transform(x_train)\r\n",
        "x_test_pca = pca.transform(x_test)"
      ],
      "execution_count": null,
      "outputs": []
    },
    {
      "cell_type": "markdown",
      "metadata": {
        "id": "A3a2YQVga6Uk"
      },
      "source": [
        "## Creating the model"
      ]
    },
    {
      "cell_type": "markdown",
      "metadata": {
        "id": "WdOBVDnXb88h"
      },
      "source": [
        "#### RBF Layer\r\n",
        "\r\n",
        "[RBF Layer Base Code](https://github.com/PetraVidnerova/rbf_for_tf2)"
      ]
    },
    {
      "cell_type": "markdown",
      "metadata": {
        "id": "AEDgWUYBlOEW"
      },
      "source": [
        "Creating custom initializers:\r\n",
        "\r\n",
        "You can pass a custom callable as initializer. It must take the arguments ```shape``` (shape of the variable to initialize) and ```dtype``` (dtype of generated values).\r\n",
        "\r\n",
        "If you need to configure your initializer via various arguments, you should implement it as a subclass of ```tf.keras.initializers.Initializer```.\r\n",
        "\r\n",
        "Initializers should implement a ```__call__``` method "
      ]
    },
    {
      "cell_type": "code",
      "metadata": {
        "id": "SipTcZNtlD5f"
      },
      "source": [
        "import tensorflow as tf\r\n",
        "from tensorflow.keras.layers import Layer\r\n",
        "from tensorflow.keras.initializers import RandomUniform, Initializer, Constant\r\n",
        "\r\n",
        "from sklearn.cluster import KMeans\r\n",
        "\r\n",
        "class InitCentersKMeans(Initializer):\r\n",
        "    \"\"\" Initializer for initialization of centers of RBF network\r\n",
        "        by clustering the given data set.\r\n",
        "    # Arguments\r\n",
        "        X: matrix, dataset\r\n",
        "    \"\"\"\r\n",
        "\r\n",
        "    def __init__(self, X, max_iter=100):\r\n",
        "        self.X = X\r\n",
        "        self.max_iter = max_iter\r\n",
        "        super().__init__()\r\n",
        "\r\n",
        "    def __call__(self, shape, dtype=None):\r\n",
        "        assert shape[1:] == self.X.shape[1:]\r\n",
        "\r\n",
        "        n_centers = shape[0]\r\n",
        "        km = KMeans(n_clusters=n_centers, max_iter=self.max_iter, verbose=0)\r\n",
        "        km.fit(self.X)\r\n",
        "        return km.cluster_centers_"
      ],
      "execution_count": null,
      "outputs": []
    },
    {
      "cell_type": "markdown",
      "metadata": {
        "id": "LwOLXWdTYsG3"
      },
      "source": [
        "Custom trainable keras layers:\r\n",
        "\r\n",
        "To build your own keras layer you need to implement a class that is a subclass of keras.layers.Layer which implements three functions (plus ```__init__```): \r\n",
        "build, call, and compute_output_shape.\r\n",
        "\r\n",
        "* ```build(self, input_shape)```\r\n",
        "\r\n",
        "This is where you will define your weights. This method should end with calling ```super().build()```.\r\n",
        "\r\n",
        "To define weights use the ```self.add_weight``` method. ```name```, ```initializer```, and ```trainable``` control the name, initialization settings (e.g. InitCentersRandom), and trainability (probably True) of the weight. \r\n",
        "\r\n",
        "**build** is the main method and its only purpose is to build the layer properly. It can do anything related to the inner working of the layer. Once the custom functionality is done, we can call the base class build function.\r\n",
        "\r\n",
        "* ```call(self,x)```\r\n",
        "\r\n",
        "**call** method does the exact working of the layer during training process.\r\n",
        "\r\n",
        "* ```compute_output_shape(input_shape)```\r\n",
        "\r\n",
        "This method should specify the output shape for a given input shape. It is used during compile time to validate that the shapes of the tensors passed between layers is correct.\r\n"
      ]
    },
    {
      "cell_type": "code",
      "metadata": {
        "id": "6vw_jJB4q0ss"
      },
      "source": [
        "class RBFLayer(Layer):\r\n",
        "    \"\"\" Layer of Gaussian RBF units.\r\n",
        "    # Example\r\n",
        "    ```python\r\n",
        "        model = Sequential()\r\n",
        "        model.add(RBFLayer(10,\r\n",
        "                           initializer=InitCentersRandom(X),\r\n",
        "                           betas=1.0,\r\n",
        "                           input_shape=(1,)))\r\n",
        "        model.add(Dense(1))\r\n",
        "    ```\r\n",
        "    # Arguments\r\n",
        "        output_dim: number of hidden units (i.e. number of outputs of the\r\n",
        "                    layer)\r\n",
        "        initializer: instance of initiliazer to initialize centers\r\n",
        "        betas: float, initial value for betas\r\n",
        "    \"\"\"\r\n",
        "\r\n",
        "    def __init__(self, output_dim, initializer=None, betas=1.0, **kwargs):\r\n",
        "        self.output_dim = output_dim\r\n",
        "\r\n",
        "        # betas is either initializer object or float\r\n",
        "        if isinstance(betas, Initializer):\r\n",
        "            self.betas_initializer = betas\r\n",
        "        else:\r\n",
        "            self.betas_initializer = Constant(value=betas)\r\n",
        "\r\n",
        "        self.initializer = initializer if initializer else RandomUniform(\r\n",
        "            0.0, 1.0)\r\n",
        "\r\n",
        "        super().__init__(**kwargs)\r\n",
        "\r\n",
        "    def build(self, input_shape):\r\n",
        "        self.centers = self.add_weight(name='centers',\r\n",
        "                                       shape=(self.output_dim, input_shape[1]),  # defines the build method with one argument, input_shape. Shape of the input data is referred by input_shape.\r\n",
        "                                       initializer=self.initializer,             # creates the weight corresponding to input shape and set it in the kernel. \r\n",
        "                                                                                 #It is our custom functionality of the layer. It creates the weight using given initializer.\r\n",
        "                                       trainable=True)\r\n",
        "        self.betas = self.add_weight(name='betas',\r\n",
        "                                     shape=(self.output_dim,),\r\n",
        "                                     initializer=self.betas_initializer,\r\n",
        "                                     trainable=True)\r\n",
        "\r\n",
        "        super().build(input_shape)                                               # calls the base class, build method.\r\n",
        "\r\n",
        "    def call(self, x): \r\n",
        "        C = tf.expand_dims(self.centers, -1)                                     # inserts a dimension of 1\r\n",
        "        H = tf.transpose(C-tf.transpose(x))                                      # matrix of differences\r\n",
        "        return tf.exp(-self.betas * tf.math.reduce_sum(H**2, axis=1))            # The gaussian function implementation\r\n",
        "\r\n",
        "    def compute_output_shape(self, input_shape):\r\n",
        "        return (input_shape[0], self.output_dim)"
      ],
      "execution_count": null,
      "outputs": []
    },
    {
      "cell_type": "markdown",
      "metadata": {
        "id": "zQksV9n1b_jT"
      },
      "source": [
        "#### Neural Network Model Function"
      ]
    },
    {
      "cell_type": "code",
      "metadata": {
        "id": "6sI7xlf6lLiF"
      },
      "source": [
        "# Function to create the model in order to use GridSearchCV for hyperparameter tuning.\r\n",
        "def create_model(optimizer='adam', loss='mean_squared_error', betas = 0.5, \r\n",
        "                 nodes = 120):\r\n",
        "  model = Sequential()\r\n",
        "  model.add(Input(shape=(29,)))\r\n",
        "  model.add(RBFLayer(nodes, initializer=InitCentersKMeans(x_train_pca), \r\n",
        "                     betas=betas))\r\n",
        "  model.add(Dense(10, activation='softmax'))                                     #output the probability\r\n",
        "  model.compile(optimizer=optimizer, loss=loss, metrics=['accuracy'])\r\n",
        "  return model"
      ],
      "execution_count": null,
      "outputs": []
    },
    {
      "cell_type": "markdown",
      "metadata": {
        "id": "w5GSi9ltcFnu"
      },
      "source": [
        "### Tuning Parameters"
      ]
    },
    {
      "cell_type": "markdown",
      "metadata": {
        "id": "5VG8QYQT_xYR"
      },
      "source": [
        "**GridSearchCV**: Exhaustive search over specified parameter values for an estimator. Using it help us cut down the boilerplate needed."
      ]
    },
    {
      "cell_type": "code",
      "metadata": {
        "colab": {
          "base_uri": "https://localhost:8080/"
        },
        "id": "yOTLxLTRQ8iR",
        "outputId": "7d7e9b0d-51b3-4b88-c3d9-e39075ce9483"
      },
      "source": [
        "start = time.time()\r\n",
        "model = KerasClassifier(build_fn=create_model)\r\n",
        "\r\n",
        "optimizers = ['rmsprop','adam']\r\n",
        "epochs = np.array([50])\r\n",
        "batches = np.array([20,40])                                                    \r\n",
        "betas = np.array([0.1, 0.5, 1])\r\n",
        "nodes = np.array([80, 100, 120])\r\n",
        "\r\n",
        "param_grid = dict(optimizer=optimizers, epochs=epochs, batch_size=batches, \r\n",
        "                  betas=betas, nodes=nodes)\r\n",
        "\r\n",
        "grid = GridSearchCV(estimator=model, param_grid=param_grid, refit=False, cv=2, \r\n",
        "                    verbose=1, n_jobs=1)\r\n",
        "\r\n",
        "grid_result = grid.fit(x_train_pca, y_train, verbose=0)\r\n",
        "\r\n",
        "total_time = time.time()-start"
      ],
      "execution_count": null,
      "outputs": [
        {
          "output_type": "stream",
          "text": [
            "Fitting 2 folds for each of 36 candidates, totalling 72 fits\n"
          ],
          "name": "stdout"
        },
        {
          "output_type": "stream",
          "text": [
            "[Parallel(n_jobs=1)]: Using backend SequentialBackend with 1 concurrent workers.\n"
          ],
          "name": "stderr"
        },
        {
          "output_type": "stream",
          "text": [
            "1500/1500 [==============================] - 2s 1ms/step - loss: 0.0142 - accuracy: 0.9091\n",
            "1500/1500 [==============================] - 2s 1ms/step - loss: 0.0143 - accuracy: 0.9082\n",
            "1500/1500 [==============================] - 2s 1ms/step - loss: 0.0136 - accuracy: 0.9148\n",
            "1500/1500 [==============================] - 2s 1ms/step - loss: 0.0134 - accuracy: 0.9163\n",
            "1500/1500 [==============================] - 2s 1ms/step - loss: 0.0145 - accuracy: 0.9066\n",
            "1500/1500 [==============================] - 2s 1ms/step - loss: 0.0149 - accuracy: 0.9029\n",
            "1500/1500 [==============================] - 2s 1ms/step - loss: 0.0122 - accuracy: 0.9237\n",
            "1500/1500 [==============================] - 2s 1ms/step - loss: 0.0118 - accuracy: 0.9252\n",
            "1500/1500 [==============================] - 2s 1ms/step - loss: 0.0137 - accuracy: 0.9123\n",
            "1500/1500 [==============================] - 2s 1ms/step - loss: 0.0136 - accuracy: 0.9122\n",
            "1500/1500 [==============================] - 2s 1ms/step - loss: 0.0116 - accuracy: 0.9278\n",
            "1500/1500 [==============================] - 2s 1ms/step - loss: 0.0121 - accuracy: 0.9234\n",
            "1500/1500 [==============================] - 2s 1ms/step - loss: 0.0147 - accuracy: 0.9053\n",
            "1500/1500 [==============================] - 2s 1ms/step - loss: 0.0158 - accuracy: 0.8935\n",
            "1500/1500 [==============================] - 2s 1ms/step - loss: 0.0122 - accuracy: 0.9259\n",
            "1500/1500 [==============================] - 2s 1ms/step - loss: 0.0127 - accuracy: 0.9221\n",
            "1500/1500 [==============================] - 2s 1ms/step - loss: 0.0132 - accuracy: 0.9152\n",
            "1500/1500 [==============================] - 2s 1ms/step - loss: 0.0128 - accuracy: 0.9185\n",
            "1500/1500 [==============================] - 2s 1ms/step - loss: 0.0121 - accuracy: 0.9246\n",
            "1500/1500 [==============================] - 2s 1ms/step - loss: 0.0131 - accuracy: 0.9178\n",
            "1500/1500 [==============================] - 2s 1ms/step - loss: 0.0138 - accuracy: 0.9106\n",
            "1500/1500 [==============================] - 2s 1ms/step - loss: 0.0127 - accuracy: 0.9177\n",
            "1500/1500 [==============================] - 2s 1ms/step - loss: 0.0109 - accuracy: 0.9337\n",
            "1500/1500 [==============================] - 2s 1ms/step - loss: 0.0113 - accuracy: 0.9310\n",
            "1500/1500 [==============================] - 2s 1ms/step - loss: 0.0163 - accuracy: 0.8940\n",
            "1500/1500 [==============================] - 2s 1ms/step - loss: 0.0153 - accuracy: 0.9002\n",
            "1500/1500 [==============================] - 2s 1ms/step - loss: 0.0145 - accuracy: 0.9103\n",
            "1500/1500 [==============================] - 2s 1ms/step - loss: 0.0149 - accuracy: 0.9064\n",
            "1500/1500 [==============================] - 2s 1ms/step - loss: 0.0138 - accuracy: 0.9123\n",
            "1500/1500 [==============================] - 2s 1ms/step - loss: 0.0141 - accuracy: 0.9084\n",
            "1500/1500 [==============================] - 2s 1ms/step - loss: 0.0124 - accuracy: 0.9231\n",
            "1500/1500 [==============================] - 2s 1ms/step - loss: 0.0120 - accuracy: 0.9259\n",
            "1500/1500 [==============================] - 2s 1ms/step - loss: 0.0126 - accuracy: 0.9191\n",
            "1500/1500 [==============================] - 2s 1ms/step - loss: 0.0168 - accuracy: 0.8881\n",
            "1500/1500 [==============================] - 2s 1ms/step - loss: 0.0115 - accuracy: 0.9300\n",
            "1500/1500 [==============================] - 2s 1ms/step - loss: 0.0114 - accuracy: 0.9308\n",
            "750/750 [==============================] - 1s 1ms/step - loss: 0.0164 - accuracy: 0.8946\n",
            "750/750 [==============================] - 1s 1ms/step - loss: 0.0158 - accuracy: 0.8980\n",
            "750/750 [==============================] - 1s 1ms/step - loss: 0.0151 - accuracy: 0.9066\n",
            "750/750 [==============================] - 1s 1ms/step - loss: 0.0153 - accuracy: 0.9024\n",
            "750/750 [==============================] - 1s 1ms/step - loss: 0.0154 - accuracy: 0.8998\n",
            "750/750 [==============================] - 1s 1ms/step - loss: 0.0155 - accuracy: 0.8990\n",
            "750/750 [==============================] - 1s 1ms/step - loss: 0.0140 - accuracy: 0.9113\n",
            "750/750 [==============================] - 1s 1ms/step - loss: 0.0132 - accuracy: 0.9162\n",
            "750/750 [==============================] - 1s 1ms/step - loss: 0.0136 - accuracy: 0.9132\n",
            "750/750 [==============================] - 1s 1ms/step - loss: 0.0136 - accuracy: 0.9130\n",
            "750/750 [==============================] - 1s 1ms/step - loss: 0.0126 - accuracy: 0.9224\n",
            "750/750 [==============================] - 1s 1ms/step - loss: 0.0127 - accuracy: 0.9210\n",
            "750/750 [==============================] - 1s 1ms/step - loss: 0.0158 - accuracy: 0.8988\n",
            "750/750 [==============================] - 1s 1ms/step - loss: 0.0162 - accuracy: 0.8957\n",
            "750/750 [==============================] - 1s 1ms/step - loss: 0.0140 - accuracy: 0.9134\n",
            "750/750 [==============================] - 1s 1ms/step - loss: 0.0140 - accuracy: 0.9156\n",
            "750/750 [==============================] - 1s 1ms/step - loss: 0.0138 - accuracy: 0.9127\n",
            "750/750 [==============================] - 1s 1ms/step - loss: 0.0142 - accuracy: 0.9100\n",
            "750/750 [==============================] - 1s 1ms/step - loss: 0.0129 - accuracy: 0.9214\n",
            "750/750 [==============================] - 1s 1ms/step - loss: 0.0140 - accuracy: 0.9120\n",
            "750/750 [==============================] - 1s 1ms/step - loss: 0.0139 - accuracy: 0.9123\n",
            "750/750 [==============================] - 1s 1ms/step - loss: 0.0131 - accuracy: 0.9163\n",
            "750/750 [==============================] - 1s 1ms/step - loss: 0.0120 - accuracy: 0.9273\n",
            "750/750 [==============================] - 1s 1ms/step - loss: 0.0120 - accuracy: 0.9272\n",
            "750/750 [==============================] - 1s 1ms/step - loss: 0.0160 - accuracy: 0.8999\n",
            "750/750 [==============================] - 1s 1ms/step - loss: 0.0191 - accuracy: 0.8742\n",
            "750/750 [==============================] - 1s 1ms/step - loss: 0.0146 - accuracy: 0.9094\n",
            "750/750 [==============================] - 1s 1ms/step - loss: 0.0155 - accuracy: 0.9032\n",
            "750/750 [==============================] - 1s 1ms/step - loss: 0.0150 - accuracy: 0.9052\n",
            "750/750 [==============================] - 1s 1ms/step - loss: 0.0153 - accuracy: 0.9000\n",
            "750/750 [==============================] - 1s 1ms/step - loss: 0.0142 - accuracy: 0.9126\n",
            "750/750 [==============================] - 1s 1ms/step - loss: 0.0143 - accuracy: 0.9111\n",
            "750/750 [==============================] - 1s 1ms/step - loss: 0.0137 - accuracy: 0.9141\n",
            "750/750 [==============================] - 1s 1ms/step - loss: 0.0151 - accuracy: 0.9024\n",
            "750/750 [==============================] - 1s 1ms/step - loss: 0.0128 - accuracy: 0.9224\n",
            "750/750 [==============================] - 1s 1ms/step - loss: 0.0131 - accuracy: 0.9186\n"
          ],
          "name": "stdout"
        },
        {
          "output_type": "stream",
          "text": [
            "[Parallel(n_jobs=1)]: Done  72 out of  72 | elapsed: 170.2min finished\n"
          ],
          "name": "stderr"
        }
      ]
    },
    {
      "cell_type": "markdown",
      "metadata": {
        "id": "KVyqgcsYcQYR"
      },
      "source": [
        "### Best model"
      ]
    },
    {
      "cell_type": "code",
      "metadata": {
        "colab": {
          "base_uri": "https://localhost:8080/"
        },
        "id": "U3Bet_gwCtfd",
        "outputId": "5a1da8ac-3353-407a-925d-bad8d92a03d3"
      },
      "source": [
        "print(\"Best model with 50 epochs: %f using %s\" % (grid_result.best_score_, grid_result.best_params_))\r\n",
        "print(\"Total time:\",time.time()-start)"
      ],
      "execution_count": null,
      "outputs": [
        {
          "output_type": "stream",
          "text": [
            "Best model with 50 epochs: 0.932367 using {'batch_size': 20, 'betas': 0.5, 'epochs': 50, 'nodes': 120, 'optimizer': 'adam'}\n",
            "Total time: 10213.882576465607\n"
          ],
          "name": "stdout"
        }
      ]
    },
    {
      "cell_type": "code",
      "metadata": {
        "colab": {
          "base_uri": "https://localhost:8080/"
        },
        "id": "emtkfn13F6df",
        "outputId": "fe77db59-92b7-45d2-a255-da442735a821"
      },
      "source": [
        "start=time.time()\r\n",
        "model = KerasClassifier(build_fn=create_model)\r\n",
        "\r\n",
        "# The best parameters are the defaults\r\n",
        "history = model.fit(x_train_pca, y_train, epochs=100, batch_size=20, \r\n",
        "                    validation_data=(x_test_pca,y_test), shuffle=True, \r\n",
        "                    verbose=1)\r\n",
        "\r\n",
        "score = history.model.evaluate(x_test_pca, y_test, verbose=0)\r\n",
        "\r\n",
        "print('Test loss: ', score[0])\r\n",
        "print('Test accuracy: ', score[1])\r\n",
        "print(\"Total time:\",time.time()-start)"
      ],
      "execution_count": null,
      "outputs": [
        {
          "output_type": "stream",
          "text": [
            "Epoch 1/100\n",
            "3000/3000 [==============================] - 6s 2ms/step - loss: 0.0702 - accuracy: 0.4171 - val_loss: 0.0265 - val_accuracy: 0.8618\n",
            "Epoch 2/100\n",
            "3000/3000 [==============================] - 6s 2ms/step - loss: 0.0257 - accuracy: 0.8581 - val_loss: 0.0200 - val_accuracy: 0.8846\n",
            "Epoch 3/100\n",
            "3000/3000 [==============================] - 6s 2ms/step - loss: 0.0209 - accuracy: 0.8778 - val_loss: 0.0177 - val_accuracy: 0.8947\n",
            "Epoch 4/100\n",
            "3000/3000 [==============================] - 6s 2ms/step - loss: 0.0193 - accuracy: 0.8827 - val_loss: 0.0166 - val_accuracy: 0.9015\n",
            "Epoch 5/100\n",
            "3000/3000 [==============================] - 6s 2ms/step - loss: 0.0178 - accuracy: 0.8908 - val_loss: 0.0165 - val_accuracy: 0.9000\n",
            "Epoch 6/100\n",
            "3000/3000 [==============================] - 6s 2ms/step - loss: 0.0172 - accuracy: 0.8930 - val_loss: 0.0154 - val_accuracy: 0.9055\n",
            "Epoch 7/100\n",
            "3000/3000 [==============================] - 6s 2ms/step - loss: 0.0164 - accuracy: 0.8986 - val_loss: 0.0150 - val_accuracy: 0.9066\n",
            "Epoch 8/100\n",
            "3000/3000 [==============================] - 6s 2ms/step - loss: 0.0160 - accuracy: 0.8988 - val_loss: 0.0147 - val_accuracy: 0.9090\n",
            "Epoch 9/100\n",
            "3000/3000 [==============================] - 6s 2ms/step - loss: 0.0154 - accuracy: 0.9035 - val_loss: 0.0138 - val_accuracy: 0.9146\n",
            "Epoch 10/100\n",
            "3000/3000 [==============================] - 6s 2ms/step - loss: 0.0147 - accuracy: 0.9098 - val_loss: 0.0138 - val_accuracy: 0.9168\n",
            "Epoch 11/100\n",
            "3000/3000 [==============================] - 6s 2ms/step - loss: 0.0143 - accuracy: 0.9112 - val_loss: 0.0129 - val_accuracy: 0.9213\n",
            "Epoch 12/100\n",
            "3000/3000 [==============================] - 6s 2ms/step - loss: 0.0142 - accuracy: 0.9129 - val_loss: 0.0134 - val_accuracy: 0.9170\n",
            "Epoch 13/100\n",
            "3000/3000 [==============================] - 6s 2ms/step - loss: 0.0136 - accuracy: 0.9171 - val_loss: 0.0135 - val_accuracy: 0.9160\n",
            "Epoch 14/100\n",
            "3000/3000 [==============================] - 6s 2ms/step - loss: 0.0134 - accuracy: 0.9189 - val_loss: 0.0127 - val_accuracy: 0.9222\n",
            "Epoch 15/100\n",
            "3000/3000 [==============================] - 6s 2ms/step - loss: 0.0131 - accuracy: 0.9203 - val_loss: 0.0118 - val_accuracy: 0.9279\n",
            "Epoch 16/100\n",
            "3000/3000 [==============================] - 6s 2ms/step - loss: 0.0127 - accuracy: 0.9222 - val_loss: 0.0122 - val_accuracy: 0.9254\n",
            "Epoch 17/100\n",
            "3000/3000 [==============================] - 6s 2ms/step - loss: 0.0127 - accuracy: 0.9218 - val_loss: 0.0113 - val_accuracy: 0.9329\n",
            "Epoch 18/100\n",
            "3000/3000 [==============================] - 6s 2ms/step - loss: 0.0123 - accuracy: 0.9248 - val_loss: 0.0115 - val_accuracy: 0.9322\n",
            "Epoch 19/100\n",
            "3000/3000 [==============================] - 6s 2ms/step - loss: 0.0119 - accuracy: 0.9278 - val_loss: 0.0112 - val_accuracy: 0.9324\n",
            "Epoch 20/100\n",
            "3000/3000 [==============================] - 6s 2ms/step - loss: 0.0118 - accuracy: 0.9281 - val_loss: 0.0113 - val_accuracy: 0.9320\n",
            "Epoch 21/100\n",
            "3000/3000 [==============================] - 6s 2ms/step - loss: 0.0114 - accuracy: 0.9318 - val_loss: 0.0111 - val_accuracy: 0.9312\n",
            "Epoch 22/100\n",
            "3000/3000 [==============================] - 6s 2ms/step - loss: 0.0114 - accuracy: 0.9297 - val_loss: 0.0119 - val_accuracy: 0.9265\n",
            "Epoch 23/100\n",
            "3000/3000 [==============================] - 6s 2ms/step - loss: 0.0111 - accuracy: 0.9343 - val_loss: 0.0112 - val_accuracy: 0.9323\n",
            "Epoch 24/100\n",
            "3000/3000 [==============================] - 6s 2ms/step - loss: 0.0111 - accuracy: 0.9321 - val_loss: 0.0105 - val_accuracy: 0.9373\n",
            "Epoch 25/100\n",
            "3000/3000 [==============================] - 6s 2ms/step - loss: 0.0109 - accuracy: 0.9350 - val_loss: 0.0107 - val_accuracy: 0.9331\n",
            "Epoch 26/100\n",
            "3000/3000 [==============================] - 6s 2ms/step - loss: 0.0106 - accuracy: 0.9371 - val_loss: 0.0110 - val_accuracy: 0.9326\n",
            "Epoch 27/100\n",
            "3000/3000 [==============================] - 6s 2ms/step - loss: 0.0107 - accuracy: 0.9346 - val_loss: 0.0097 - val_accuracy: 0.9421\n",
            "Epoch 28/100\n",
            "3000/3000 [==============================] - 6s 2ms/step - loss: 0.0105 - accuracy: 0.9359 - val_loss: 0.0104 - val_accuracy: 0.9359\n",
            "Epoch 29/100\n",
            "3000/3000 [==============================] - 6s 2ms/step - loss: 0.0104 - accuracy: 0.9378 - val_loss: 0.0107 - val_accuracy: 0.9336\n",
            "Epoch 30/100\n",
            "3000/3000 [==============================] - 6s 2ms/step - loss: 0.0103 - accuracy: 0.9382 - val_loss: 0.0092 - val_accuracy: 0.9445\n",
            "Epoch 31/100\n",
            "3000/3000 [==============================] - 6s 2ms/step - loss: 0.0101 - accuracy: 0.9378 - val_loss: 0.0091 - val_accuracy: 0.9461\n",
            "Epoch 32/100\n",
            "3000/3000 [==============================] - 6s 2ms/step - loss: 0.0101 - accuracy: 0.9402 - val_loss: 0.0098 - val_accuracy: 0.9411\n",
            "Epoch 33/100\n",
            "3000/3000 [==============================] - 6s 2ms/step - loss: 0.0100 - accuracy: 0.9400 - val_loss: 0.0092 - val_accuracy: 0.9439\n",
            "Epoch 34/100\n",
            "3000/3000 [==============================] - 6s 2ms/step - loss: 0.0098 - accuracy: 0.9403 - val_loss: 0.0090 - val_accuracy: 0.9461\n",
            "Epoch 35/100\n",
            "3000/3000 [==============================] - 6s 2ms/step - loss: 0.0096 - accuracy: 0.9427 - val_loss: 0.0093 - val_accuracy: 0.9438\n",
            "Epoch 36/100\n",
            "3000/3000 [==============================] - 6s 2ms/step - loss: 0.0096 - accuracy: 0.9419 - val_loss: 0.0096 - val_accuracy: 0.9433\n",
            "Epoch 37/100\n",
            "3000/3000 [==============================] - 6s 2ms/step - loss: 0.0095 - accuracy: 0.9434 - val_loss: 0.0089 - val_accuracy: 0.9470\n",
            "Epoch 38/100\n",
            "3000/3000 [==============================] - 6s 2ms/step - loss: 0.0095 - accuracy: 0.9424 - val_loss: 0.0091 - val_accuracy: 0.9440\n",
            "Epoch 39/100\n",
            "3000/3000 [==============================] - 6s 2ms/step - loss: 0.0093 - accuracy: 0.9435 - val_loss: 0.0089 - val_accuracy: 0.9464\n",
            "Epoch 40/100\n",
            "3000/3000 [==============================] - 6s 2ms/step - loss: 0.0093 - accuracy: 0.9428 - val_loss: 0.0091 - val_accuracy: 0.9458\n",
            "Epoch 41/100\n",
            "3000/3000 [==============================] - 6s 2ms/step - loss: 0.0090 - accuracy: 0.9459 - val_loss: 0.0086 - val_accuracy: 0.9496\n",
            "Epoch 42/100\n",
            "3000/3000 [==============================] - 6s 2ms/step - loss: 0.0089 - accuracy: 0.9460 - val_loss: 0.0096 - val_accuracy: 0.9430\n",
            "Epoch 43/100\n",
            "3000/3000 [==============================] - 6s 2ms/step - loss: 0.0090 - accuracy: 0.9457 - val_loss: 0.0090 - val_accuracy: 0.9464\n",
            "Epoch 44/100\n",
            "3000/3000 [==============================] - 6s 2ms/step - loss: 0.0089 - accuracy: 0.9450 - val_loss: 0.0092 - val_accuracy: 0.9423\n",
            "Epoch 45/100\n",
            "3000/3000 [==============================] - 6s 2ms/step - loss: 0.0088 - accuracy: 0.9462 - val_loss: 0.0087 - val_accuracy: 0.9460\n",
            "Epoch 46/100\n",
            "3000/3000 [==============================] - 6s 2ms/step - loss: 0.0090 - accuracy: 0.9457 - val_loss: 0.0082 - val_accuracy: 0.9512\n",
            "Epoch 47/100\n",
            "3000/3000 [==============================] - 6s 2ms/step - loss: 0.0086 - accuracy: 0.9474 - val_loss: 0.0093 - val_accuracy: 0.9429\n",
            "Epoch 48/100\n",
            "3000/3000 [==============================] - 6s 2ms/step - loss: 0.0086 - accuracy: 0.9483 - val_loss: 0.0082 - val_accuracy: 0.9518\n",
            "Epoch 49/100\n",
            "3000/3000 [==============================] - 6s 2ms/step - loss: 0.0086 - accuracy: 0.9468 - val_loss: 0.0083 - val_accuracy: 0.9491\n",
            "Epoch 50/100\n",
            "3000/3000 [==============================] - 6s 2ms/step - loss: 0.0085 - accuracy: 0.9490 - val_loss: 0.0080 - val_accuracy: 0.9517\n",
            "Epoch 51/100\n",
            "3000/3000 [==============================] - 6s 2ms/step - loss: 0.0084 - accuracy: 0.9499 - val_loss: 0.0082 - val_accuracy: 0.9514\n",
            "Epoch 52/100\n",
            "3000/3000 [==============================] - 6s 2ms/step - loss: 0.0085 - accuracy: 0.9492 - val_loss: 0.0082 - val_accuracy: 0.9513\n",
            "Epoch 53/100\n",
            "3000/3000 [==============================] - 6s 2ms/step - loss: 0.0084 - accuracy: 0.9489 - val_loss: 0.0077 - val_accuracy: 0.9528\n",
            "Epoch 54/100\n",
            "3000/3000 [==============================] - 6s 2ms/step - loss: 0.0083 - accuracy: 0.9507 - val_loss: 0.0079 - val_accuracy: 0.9528\n",
            "Epoch 55/100\n",
            "3000/3000 [==============================] - 6s 2ms/step - loss: 0.0080 - accuracy: 0.9528 - val_loss: 0.0078 - val_accuracy: 0.9557\n",
            "Epoch 56/100\n",
            "3000/3000 [==============================] - 6s 2ms/step - loss: 0.0081 - accuracy: 0.9516 - val_loss: 0.0081 - val_accuracy: 0.9513\n",
            "Epoch 57/100\n",
            "3000/3000 [==============================] - 6s 2ms/step - loss: 0.0081 - accuracy: 0.9514 - val_loss: 0.0076 - val_accuracy: 0.9525\n",
            "Epoch 58/100\n",
            "3000/3000 [==============================] - 6s 2ms/step - loss: 0.0081 - accuracy: 0.9513 - val_loss: 0.0085 - val_accuracy: 0.9476\n",
            "Epoch 59/100\n",
            "3000/3000 [==============================] - 6s 2ms/step - loss: 0.0080 - accuracy: 0.9518 - val_loss: 0.0075 - val_accuracy: 0.9543\n",
            "Epoch 60/100\n",
            "3000/3000 [==============================] - 6s 2ms/step - loss: 0.0078 - accuracy: 0.9540 - val_loss: 0.0077 - val_accuracy: 0.9535\n",
            "Epoch 61/100\n",
            "3000/3000 [==============================] - 6s 2ms/step - loss: 0.0078 - accuracy: 0.9539 - val_loss: 0.0082 - val_accuracy: 0.9514\n",
            "Epoch 62/100\n",
            "3000/3000 [==============================] - 6s 2ms/step - loss: 0.0080 - accuracy: 0.9517 - val_loss: 0.0082 - val_accuracy: 0.9516\n",
            "Epoch 63/100\n",
            "3000/3000 [==============================] - 6s 2ms/step - loss: 0.0079 - accuracy: 0.9535 - val_loss: 0.0095 - val_accuracy: 0.9437\n",
            "Epoch 64/100\n",
            "3000/3000 [==============================] - 6s 2ms/step - loss: 0.0080 - accuracy: 0.9533 - val_loss: 0.0078 - val_accuracy: 0.9522\n",
            "Epoch 65/100\n",
            "3000/3000 [==============================] - 6s 2ms/step - loss: 0.0077 - accuracy: 0.9543 - val_loss: 0.0074 - val_accuracy: 0.9556\n",
            "Epoch 66/100\n",
            "3000/3000 [==============================] - 6s 2ms/step - loss: 0.0078 - accuracy: 0.9532 - val_loss: 0.0076 - val_accuracy: 0.9546\n",
            "Epoch 67/100\n",
            "3000/3000 [==============================] - 6s 2ms/step - loss: 0.0076 - accuracy: 0.9557 - val_loss: 0.0072 - val_accuracy: 0.9588\n",
            "Epoch 68/100\n",
            "3000/3000 [==============================] - 6s 2ms/step - loss: 0.0076 - accuracy: 0.9536 - val_loss: 0.0080 - val_accuracy: 0.9500\n",
            "Epoch 69/100\n",
            "3000/3000 [==============================] - 6s 2ms/step - loss: 0.0076 - accuracy: 0.9547 - val_loss: 0.0072 - val_accuracy: 0.9574\n",
            "Epoch 70/100\n",
            "3000/3000 [==============================] - 6s 2ms/step - loss: 0.0074 - accuracy: 0.9554 - val_loss: 0.0070 - val_accuracy: 0.9602\n",
            "Epoch 71/100\n",
            "3000/3000 [==============================] - 6s 2ms/step - loss: 0.0075 - accuracy: 0.9554 - val_loss: 0.0077 - val_accuracy: 0.9539\n",
            "Epoch 72/100\n",
            "3000/3000 [==============================] - 6s 2ms/step - loss: 0.0075 - accuracy: 0.9551 - val_loss: 0.0081 - val_accuracy: 0.9513\n",
            "Epoch 73/100\n",
            "3000/3000 [==============================] - 6s 2ms/step - loss: 0.0075 - accuracy: 0.9553 - val_loss: 0.0071 - val_accuracy: 0.9579\n",
            "Epoch 74/100\n",
            "3000/3000 [==============================] - 6s 2ms/step - loss: 0.0073 - accuracy: 0.9567 - val_loss: 0.0072 - val_accuracy: 0.9580\n",
            "Epoch 75/100\n",
            "3000/3000 [==============================] - 6s 2ms/step - loss: 0.0076 - accuracy: 0.9540 - val_loss: 0.0070 - val_accuracy: 0.9567\n",
            "Epoch 76/100\n",
            "3000/3000 [==============================] - 6s 2ms/step - loss: 0.0075 - accuracy: 0.9548 - val_loss: 0.0075 - val_accuracy: 0.9570\n",
            "Epoch 77/100\n",
            "3000/3000 [==============================] - 6s 2ms/step - loss: 0.0073 - accuracy: 0.9562 - val_loss: 0.0071 - val_accuracy: 0.9578\n",
            "Epoch 78/100\n",
            "3000/3000 [==============================] - 6s 2ms/step - loss: 0.0075 - accuracy: 0.9555 - val_loss: 0.0070 - val_accuracy: 0.9592\n",
            "Epoch 79/100\n",
            "3000/3000 [==============================] - 6s 2ms/step - loss: 0.0072 - accuracy: 0.9570 - val_loss: 0.0069 - val_accuracy: 0.9575\n",
            "Epoch 80/100\n",
            "3000/3000 [==============================] - 6s 2ms/step - loss: 0.0073 - accuracy: 0.9563 - val_loss: 0.0074 - val_accuracy: 0.9558\n",
            "Epoch 81/100\n",
            "3000/3000 [==============================] - 6s 2ms/step - loss: 0.0070 - accuracy: 0.9579 - val_loss: 0.0072 - val_accuracy: 0.9580\n",
            "Epoch 82/100\n",
            "3000/3000 [==============================] - 6s 2ms/step - loss: 0.0072 - accuracy: 0.9569 - val_loss: 0.0066 - val_accuracy: 0.9609\n",
            "Epoch 83/100\n",
            "3000/3000 [==============================] - 6s 2ms/step - loss: 0.0071 - accuracy: 0.9563 - val_loss: 0.0067 - val_accuracy: 0.9623\n",
            "Epoch 84/100\n",
            "3000/3000 [==============================] - 6s 2ms/step - loss: 0.0073 - accuracy: 0.9568 - val_loss: 0.0070 - val_accuracy: 0.9593\n",
            "Epoch 85/100\n",
            "3000/3000 [==============================] - 6s 2ms/step - loss: 0.0071 - accuracy: 0.9576 - val_loss: 0.0071 - val_accuracy: 0.9580\n",
            "Epoch 86/100\n",
            "3000/3000 [==============================] - 6s 2ms/step - loss: 0.0069 - accuracy: 0.9594 - val_loss: 0.0067 - val_accuracy: 0.9601\n",
            "Epoch 87/100\n",
            "3000/3000 [==============================] - 6s 2ms/step - loss: 0.0071 - accuracy: 0.9574 - val_loss: 0.0066 - val_accuracy: 0.9606\n",
            "Epoch 88/100\n",
            "3000/3000 [==============================] - 6s 2ms/step - loss: 0.0070 - accuracy: 0.9576 - val_loss: 0.0072 - val_accuracy: 0.9591\n",
            "Epoch 89/100\n",
            "3000/3000 [==============================] - 6s 2ms/step - loss: 0.0070 - accuracy: 0.9583 - val_loss: 0.0071 - val_accuracy: 0.9584\n",
            "Epoch 90/100\n",
            "3000/3000 [==============================] - 6s 2ms/step - loss: 0.0069 - accuracy: 0.9592 - val_loss: 0.0085 - val_accuracy: 0.9471\n",
            "Epoch 91/100\n",
            "3000/3000 [==============================] - 6s 2ms/step - loss: 0.0070 - accuracy: 0.9588 - val_loss: 0.0073 - val_accuracy: 0.9547\n",
            "Epoch 92/100\n",
            "3000/3000 [==============================] - 6s 2ms/step - loss: 0.0068 - accuracy: 0.9601 - val_loss: 0.0070 - val_accuracy: 0.9585\n",
            "Epoch 93/100\n",
            "3000/3000 [==============================] - 6s 2ms/step - loss: 0.0068 - accuracy: 0.9610 - val_loss: 0.0068 - val_accuracy: 0.9594\n",
            "Epoch 94/100\n",
            "3000/3000 [==============================] - 6s 2ms/step - loss: 0.0069 - accuracy: 0.9586 - val_loss: 0.0073 - val_accuracy: 0.9534\n",
            "Epoch 95/100\n",
            "3000/3000 [==============================] - 6s 2ms/step - loss: 0.0068 - accuracy: 0.9592 - val_loss: 0.0073 - val_accuracy: 0.9566\n",
            "Epoch 96/100\n",
            "3000/3000 [==============================] - 6s 2ms/step - loss: 0.0068 - accuracy: 0.9595 - val_loss: 0.0063 - val_accuracy: 0.9655\n",
            "Epoch 97/100\n",
            "3000/3000 [==============================] - 6s 2ms/step - loss: 0.0067 - accuracy: 0.9606 - val_loss: 0.0073 - val_accuracy: 0.9560\n",
            "Epoch 98/100\n",
            "3000/3000 [==============================] - 6s 2ms/step - loss: 0.0068 - accuracy: 0.9589 - val_loss: 0.0065 - val_accuracy: 0.9612\n",
            "Epoch 99/100\n",
            "3000/3000 [==============================] - 6s 2ms/step - loss: 0.0065 - accuracy: 0.9616 - val_loss: 0.0068 - val_accuracy: 0.9607\n",
            "Epoch 100/100\n",
            "3000/3000 [==============================] - 6s 2ms/step - loss: 0.0066 - accuracy: 0.9602 - val_loss: 0.0065 - val_accuracy: 0.9631\n",
            "Test loss:  0.0064725205302238464\n",
            "Test accuracy:  0.963100016117096\n",
            "Total time: 658.6567242145538\n"
          ],
          "name": "stdout"
        }
      ]
    },
    {
      "cell_type": "code",
      "metadata": {
        "colab": {
          "base_uri": "https://localhost:8080/",
          "height": 121
        },
        "id": "d-OfHalndDtD",
        "outputId": "d5aca97f-1bdb-459c-a848-f8b7d2e5c2b7"
      },
      "source": [
        "from keras.utils import plot_model\r\n",
        "\r\n",
        "plot_model(history.model, to_file='model.png', show_shapes=True, \r\n",
        "           show_layer_names=False, rankdir='LR')"
      ],
      "execution_count": null,
      "outputs": [
        {
          "output_type": "execute_result",
          "data": {
            "image/png": "[encoded data removed]",
            "text/plain": [
              "<IPython.core.display.Image object>"
            ]
          },
          "metadata": {
            "tags": []
          },
          "execution_count": 27
        }
      ]
    },
    {
      "cell_type": "code",
      "metadata": {
        "colab": {
          "base_uri": "https://localhost:8080/"
        },
        "id": "HbshVHdAdd2O",
        "outputId": "b457d6d5-bd9b-418f-d3a8-f7d1d13ac90f"
      },
      "source": [
        "print(history.model.summary())"
      ],
      "execution_count": null,
      "outputs": [
        {
          "output_type": "stream",
          "text": [
            "Model: \"sequential_8\"\n",
            "_________________________________________________________________\n",
            "Layer (type)                 Output Shape              Param #   \n",
            "=================================================================\n",
            "rbf_layer_8 (RBFLayer)       (None, 150)               4500      \n",
            "_________________________________________________________________\n",
            "dense_6 (Dense)              (None, 10)                1510      \n",
            "=================================================================\n",
            "Total params: 6,010\n",
            "Trainable params: 6,010\n",
            "Non-trainable params: 0\n",
            "_________________________________________________________________\n",
            "None\n"
          ],
          "name": "stdout"
        }
      ]
    },
    {
      "cell_type": "markdown",
      "metadata": {
        "id": "_sPIWfViatJO"
      },
      "source": [
        "## Evaluation"
      ]
    },
    {
      "cell_type": "markdown",
      "metadata": {
        "id": "8TvqC0k_chTQ"
      },
      "source": [
        "### Plotting Accuracy and Loss"
      ]
    },
    {
      "cell_type": "code",
      "metadata": {
        "colab": {
          "base_uri": "https://localhost:8080/",
          "height": 808
        },
        "id": "RgyACjMhT6bS",
        "outputId": "35eb8f04-61c5-41ee-d145-ebda195eae3e"
      },
      "source": [
        "plt.rcParams[\"figure.figsize\"] = (12,6) # in order to increase the size of the plots\r\n",
        "print(history.history.keys())\r\n",
        "\r\n",
        "#  \"Accuracy\"\r\n",
        "plt.plot(history.history['accuracy'])\r\n",
        "plt.plot(history.history['val_accuracy'])\r\n",
        "plt.title('model accuracy')\r\n",
        "plt.ylabel('accuracy')\r\n",
        "plt.xlabel('epoch')\r\n",
        "plt.legend(['train', 'validation'], loc='upper left')\r\n",
        "plt.show()\r\n",
        "# \"Loss\"\r\n",
        "plt.plot(history.history['loss'])\r\n",
        "plt.plot(history.history['val_loss'])\r\n",
        "plt.title('model loss')\r\n",
        "plt.ylabel('loss')\r\n",
        "plt.xlabel('epoch')\r\n",
        "plt.legend(['train', 'validation'], loc='upper left')\r\n",
        "plt.show()"
      ],
      "execution_count": null,
      "outputs": [
        {
          "output_type": "stream",
          "text": [
            "dict_keys(['loss', 'accuracy', 'val_loss', 'val_accuracy'])\n"
          ],
          "name": "stdout"
        },
        {
          "output_type": "display_data",
          "data": {
            "image/png": "[encoded data removed]",
            "text/plain": [
              "<Figure size 864x432 with 1 Axes>"
            ]
          },
          "metadata": {
            "tags": [],
            "needs_background": "light"
          }
        },
        {
          "output_type": "display_data",
          "data": {
            "image/png": "[encoded data removed]",
            "text/plain": [
              "<Figure size 864x432 with 1 Axes>"
            ]
          },
          "metadata": {
            "tags": [],
            "needs_background": "light"
          }
        }
      ]
    },
    {
      "cell_type": "markdown",
      "metadata": {
        "id": "9vcCLUZfckzi"
      },
      "source": [
        "### Consfusion Matrix"
      ]
    },
    {
      "cell_type": "code",
      "metadata": {
        "colab": {
          "base_uri": "https://localhost:8080/",
          "height": 187
        },
        "id": "CtS_nHd9XXgi",
        "outputId": "2943b1a5-90d0-46b9-aba2-f3a1f0011cad"
      },
      "source": [
        "(_, _), (X, Y) = mnist.load_data() # getting the test data with original size\r\n",
        "\r\n",
        "y_pred=model.predict(x_test_pca)\r\n",
        "matrix = confusion_matrix(Y, y_pred)\r\n",
        "display(matrix)"
      ],
      "execution_count": null,
      "outputs": [
        {
          "output_type": "display_data",
          "data": {
            "text/plain": [
              "array([[ 949,    0,    2,    0,    0,    8,   10,    5,    6,    0],\n",
              "       [   0, 1113,    4,    2,    0,    2,    3,    2,    9,    0],\n",
              "       [   5,    0,  988,    3,    2,    3,    1,   15,   15,    0],\n",
              "       [   0,    0,    8,  953,    0,   26,    0,   14,    6,    3],\n",
              "       [   0,    0,    8,    0,  913,    0,   10,    6,    8,   37],\n",
              "       [   3,    0,    0,    4,    1,  871,    6,    3,    3,    1],\n",
              "       [   4,    2,    1,    0,    3,    7,  936,    1,    4,    0],\n",
              "       [   0,    3,   12,    1,    1,    1,    0,  997,    4,    9],\n",
              "       [   1,    0,    4,    4,    2,   10,    6,    7,  937,    3],\n",
              "       [   1,    4,    1,    5,    6,   14,    1,   19,    9,  949]])"
            ]
          },
          "metadata": {
            "tags": []
          }
        }
      ]
    },
    {
      "cell_type": "code",
      "metadata": {
        "colab": {
          "base_uri": "https://localhost:8080/",
          "height": 404
        },
        "id": "cnScK3C6bSrK",
        "outputId": "e7e9766b-1bef-465f-cdc7-4b648def1975"
      },
      "source": [
        "plt.rcParams[\"figure.figsize\"] = (12,6) # in order to increase the size of the plots\r\n",
        "ax= plt.subplot()\r\n",
        "sns.heatmap(matrix, annot=True, ax = ax, fmt='g'); #annot=True to annotate cells\r\n",
        "\r\n",
        "# labels, title and ticks\r\n",
        "ax.set_xlabel('Predicted labels');ax.set_ylabel('True labels'); \r\n",
        "ax.set_title('Confusion Matrix'); \r\n",
        "ax.xaxis.set_ticklabels(['0', '1','2', '3', '4', '5', '6', '7', '8', '9']); \r\n",
        "ax.yaxis.set_ticklabels(['0', '1','2', '3', '4', '5', '6', '7', '8', '9']);"
      ],
      "execution_count": null,
      "outputs": [
        {
          "output_type": "display_data",
          "data": {
            "image/png": "[encoded data removed]",
            "text/plain": [
              "<Figure size 864x432 with 2 Axes>"
            ]
          },
          "metadata": {
            "tags": [],
            "needs_background": "light"
          }
        }
      ]
    },
    {
      "cell_type": "markdown",
      "metadata": {
        "id": "H43VuNh-ca1K"
      },
      "source": [
        "## Sources\r\n",
        "\r\n",
        "* https://www.tutorialspoint.com/keras/keras_customized_layer.htm\r\n",
        "\r\n",
        "* https://www.kaggle.com/residentmario/radial-basis-networks-and-custom-keras-layers\r\n",
        "\r\n",
        "* https://www.quora.com/How-does-one-build-an-Radial-Basis-Function-RBF-network-in-TensorFlow\r\n",
        "\r\n",
        "* http://mccormickml.com/2013/08/15/radial-basis-function-network-rbfn-tutorial/\r\n",
        "\r\n",
        "* https://towardsdatascience.com/most-effective-way-to-implement-radial-basis-function-neural-network-for-classification-problem-33c467803319\r\n",
        "\r\n",
        "* https://keras.io/api/layers/initializers/#creating-custom-initializers\r\n",
        "\r\n",
        "* https://www.sciencedirect.com/topics/computer-science/radial-basis-function\r\n",
        "\r\n",
        "---\r\n",
        "## Citation\r\n",
        "* Vidnerová, Petra. RBF-Keras: an RBF Layer for Keras Library. 2019. Available at https://github.com/PetraVidnerova/rbf_for_tf2\r\n",
        "\r\n",
        "  Thanks to the author of the very first citation: Lukas Brausch, et al. Towards a wearable low-cost ultrasound device for classification of muscle activity and muscle fatigue. 2019 doi:10.1145/3341163.3347749"
      ]
    }
  ]
}