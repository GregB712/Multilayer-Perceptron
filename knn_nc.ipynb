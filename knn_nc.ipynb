{
 "cells": [
  {
   "cell_type": "markdown",
   "metadata": {},
   "source": [
    "# Ενδιάμεση Εργασία\n",
    "\n",
    "ΑΕΜ: 3108\n",
    "\n",
    "Όνομα: Μπάρμπας Γρηγόριος \n",
    "\n",
    "Υλοποίηση κατηγοριοποιητή πλησιέστερου γείτονα με 1 και 3 πλησιέστερους γείτονες και τον κατηγοριοποιητή\n",
    "πλησιέστερου κέντρου στην βάση δεδομένων.\n",
    "Dataset: https://www.kaggle.com/oddrationale/mnist-in-csv (digits-dataset)"
   ]
  },
  {
   "cell_type": "code",
   "execution_count": null,
   "metadata": {
    "id": "hWNT4cET2ifO"
   },
   "outputs": [],
   "source": [
    "# Import libraries\n",
    "import pandas as pd\n",
    "import numpy as np\n",
    "\n",
    "import heapq\n",
    "\n",
    "import timeit\n",
    "\n",
    "from sklearn.metrics.pairwise import euclidean_distances\n",
    "from statistics import median \n",
    "from sklearn.metrics import mean_squared_error\n",
    "from sklearn.metrics import accuracy_score\n",
    "from sklearn.metrics import f1_score"
   ]
  },
  {
   "cell_type": "code",
   "execution_count": null,
   "metadata": {
    "id": "NaMRY7sP2ifV"
   },
   "outputs": [],
   "source": [
    "# Load Data\n",
    "test_data = pd.read_csv(\"mnist_test.csv\")\n",
    "train_data = pd.read_csv(\"mnist_train.csv\")"
   ]
  },
  {
   "cell_type": "code",
   "execution_count": null,
   "metadata": {
    "id": "h_AIODf4WDXl"
   },
   "outputs": [],
   "source": [
    "# Get the target y of the test data\n",
    "y_test = test_data.iloc[:, 0].values"
   ]
  },
  {
   "cell_type": "code",
   "execution_count": null,
   "metadata": {
    "id": "gVtOAXwX2ifY"
   },
   "outputs": [],
   "source": [
    "# Create arrays of data without the labels\n",
    "X_test = test_data.iloc[:, 1:].values\n",
    "X_train = train_data.iloc[:, 1:].values"
   ]
  },
  {
   "cell_type": "code",
   "execution_count": null,
   "metadata": {
    "id": "ewtg1m9n2ifa"
   },
   "outputs": [],
   "source": [
    "# K-Nearest Neighbors\n",
    "def knn(test, train, neighbors):\n",
    "    print('Starting K Nearest Neighbors: ')\n",
    "\n",
    "    # Calculate the distances between each of test cases with the trained ones\n",
    "    # distances is a 2d array: each row is a vector of distances between a test \n",
    "    # case with all the cases in the training data\n",
    "    distances = euclidean_distances(test, train)\n",
    "\n",
    "    # Getting the k minimum distances (k: number of neighbors)\n",
    "    # hq is a 2d array: for each of the previous distances we keep the k min\n",
    "    # distances with the indexed on the original array so we can use it to find\n",
    "    # the labels\n",
    "    hq = [heapq.nsmallest(neighbors, enumerate(row), key=lambda x: x[1]) for row in distances]\n",
    "\n",
    "    # Keeping only the indexes of the k-nearest neighbors\n",
    "    k_nearest = [[i[0] for i in row] for row in hq]\n",
    "\n",
    "    # Find the highest frequency of labels between the neighbors\n",
    "    predictions = [median(train_data.loc[k_n]['label']) for k_n in k_nearest]\n",
    "\n",
    "    return predictions"
   ]
  },
  {
   "cell_type": "code",
   "execution_count": null,
   "metadata": {
    "colab": {
     "base_uri": "https://localhost:8080/"
    },
    "id": "loPLw-NR2ife",
    "outputId": "3135acb0-79b6-45d7-ff3b-a33996a7a74d"
   },
   "outputs": [],
   "source": [
    "start = timeit.default_timer()\n",
    "\n",
    "predictionsKNN = knn(X_test, X_train, 3)\n",
    "\n",
    "stop = timeit.default_timer()\n",
    "\n",
    "print('Time: ', stop - start, 'seconds')"
   ]
  },
  {
   "cell_type": "code",
   "execution_count": null,
   "metadata": {
    "colab": {
     "base_uri": "https://localhost:8080/"
    },
    "id": "vVU5UeamTTje",
    "outputId": "5112ed4f-645c-4ab7-e2c8-6e087f920fdb"
   },
   "outputs": [],
   "source": [
    "print('F1 score (macro):', f1_score(y_test, predictionsKNN, average='macro'))\n",
    "print('F1 score (micro):', f1_score(y_test, predictionsKNN, average='micro'))\n",
    "print('F1 score (weighted):', f1_score(y_test, predictionsKNN, average='weighted'))\n",
    "\n",
    "print('Accuracy Score: ', accuracy_score(y_test, predictionsKNN))\n",
    "\n",
    "print('Mean Squared Error: ', mean_squared_error(y_test, predictionsKNN))"
   ]
  },
  {
   "cell_type": "code",
   "execution_count": null,
   "metadata": {
    "id": "2pf-x6-02ifi"
   },
   "outputs": [],
   "source": [
    "def ncc(test, train):\n",
    "    print('Starting Nearest Center of Data: ')\n",
    "    \n",
    "    # Create dataframes for each class (0,1,2,3,4,5,6,7,8,9)\n",
    "    train0 = train.loc[train['label'] == 0].drop('label', 1)\n",
    "    train1 = train.loc[train['label'] == 1].drop('label', 1)\n",
    "    train2 = train.loc[train['label'] == 2].drop('label', 1)\n",
    "    train3 = train.loc[train['label'] == 3].drop('label', 1)\n",
    "    train4 = train.loc[train['label'] == 4].drop('label', 1)\n",
    "    train5 = train.loc[train['label'] == 5].drop('label', 1)\n",
    "    train6 = train.loc[train['label'] == 6].drop('label', 1)\n",
    "    train7 = train.loc[train['label'] == 7].drop('label', 1)\n",
    "    train8 = train.loc[train['label'] == 8].drop('label', 1)\n",
    "    train9 = train.loc[train['label'] == 9].drop('label', 1)\n",
    "\n",
    "    # Calculate the centers of each class\n",
    "    center0 = np.mean(train0, axis=0)\n",
    "    center1 = np.mean(train1, axis=0)\n",
    "    center2 = np.mean(train2, axis=0)\n",
    "    center3 = np.mean(train3, axis=0)\n",
    "    center4 = np.mean(train4, axis=0)\n",
    "    center5 = np.mean(train5, axis=0)\n",
    "    center6 = np.mean(train6, axis=0)\n",
    "    center7 = np.mean(train7, axis=0)\n",
    "    center8 = np.mean(train8, axis=0)\n",
    "    center9 = np.mean(train9, axis=0)\n",
    "\n",
    "    # Join the centers\n",
    "    centers = [center0,center1,center2,center3,\n",
    "               center4,center5,center6,center7,\n",
    "               center8,center9]\n",
    "\n",
    "    # Calculate the distances between each of test cases with the trained ones\n",
    "    # distances is a 2d array: each row is a vector of distances between a test \n",
    "    # case with all the centers\n",
    "    distances = euclidean_distances(test, centers)\n",
    "\n",
    "    # Find the minimum distance from the previoys distances\n",
    "    min_dist = [(heapq.nsmallest((1), range(len(i)), i.take)) for i in distances]\n",
    "\n",
    "    # Save predictions in an array\n",
    "    predictions = [i for i in min_dist]\n",
    "    predictions = np.array(predictions)\n",
    "\n",
    "    return predictions\n",
    "    "
   ]
  },
  {
   "cell_type": "code",
   "execution_count": null,
   "metadata": {
    "colab": {
     "base_uri": "https://localhost:8080/"
    },
    "id": "epqXfJK02ifk",
    "outputId": "bf203250-83c8-4a64-9302-24b27d2b5fc0"
   },
   "outputs": [],
   "source": [
    "start = timeit.default_timer()\n",
    "\n",
    "predictionsNCC = ncc(X_test, train_data)\n",
    "\n",
    "stop = timeit.default_timer()\n",
    "\n",
    "print('Time: ', stop - start, 'seconds')"
   ]
  },
  {
   "cell_type": "code",
   "execution_count": null,
   "metadata": {
    "colab": {
     "base_uri": "https://localhost:8080/"
    },
    "id": "-3ivXGrw2ifn",
    "outputId": "7cc48eae-76db-4a41-9026-7a851dba8dab"
   },
   "outputs": [],
   "source": [
    "print('F1 score (macro):', f1_score(y_test, predictionsNCC, average='macro'))\n",
    "print('F1 score (micro):', f1_score(y_test, predictionsNCC, average='micro'))\n",
    "print('F1 score (weighted):', f1_score(y_test, predictionsNCC, average='weighted'))\n",
    "\n",
    "print('Accuracy Score: ', accuracy_score(y_test, predictionsNCC))\n",
    "\n",
    "print('Mean Squared Error: ', mean_squared_error(y_test, predictionsNCC))"
   ]
  },
  {
   "attachments": {
    "Screenshot_1.png": {
     "image/png": "[encoded data removed]"
    },
    "Screenshot_2.png": {
     "image/png": "[encoded data removed]"
    },
    "Screenshot_5.png": {
     "image/png": "[encoded data removed]"
    },
    "Screenshot_6.png": {
     "image/png": "[encoded data removed]"
    }
   },
   "cell_type": "markdown",
   "metadata": {},
   "source": [
    "## K-Nearest Neighbors\n",
    "\n",
    "#### Neighbors=3\n",
    "![Screenshot_1.png](attachment:Screenshot_1.png)\n",
    "![Screenshot_2.png](attachment:Screenshot_2.png)\n",
    "\n",
    "#### Neighbors=1\n",
    "![Screenshot_5.png](attachment:Screenshot_5.png)\n",
    "![Screenshot_6.png](attachment:Screenshot_6.png)"
   ]
  },
  {
   "attachments": {
    "Screenshot_3.png": {
     "image/png": "[encoded data removed]"
    },
    "Screenshot_4.png": {
     "image/png": "[encoded data removed]"
    }
   },
   "cell_type": "markdown",
   "metadata": {},
   "source": [
    "## Nearest Center of Data\n",
    "![Screenshot_3.png](attachment:Screenshot_3.png)\n",
    "![Screenshot_4.png](attachment:Screenshot_4.png)"
   ]
  }
 ],
 "metadata": {
  "colab": {
   "name": "Final.ipynb",
   "provenance": []
  },
  "kernelspec": {
   "display_name": "Python 3",
   "language": "python",
   "name": "python3"
  },
  "language_info": {
   "codemirror_mode": {
    "name": "ipython",
    "version": 3
   },
   "file_extension": ".py",
   "mimetype": "text/x-python",
   "name": "python",
   "nbconvert_exporter": "python",
   "pygments_lexer": "ipython3",
   "version": "3.8.3"
  }
 },
 "nbformat": 4,
 "nbformat_minor": 1
}
